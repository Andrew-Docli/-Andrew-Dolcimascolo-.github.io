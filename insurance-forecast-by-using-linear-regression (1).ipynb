{
 "cells": [
  {
   "cell_type": "code",
   "execution_count": 1,
   "metadata": {
    "_cell_guid": "79c7e3d0-c299-4dcb-8224-4455121ee9b0",
    "_uuid": "d629ff2d2480ee46fbb7e2d37f6b5fab8052498a",
    "execution": {
     "iopub.execute_input": "2024-05-07T18:01:59.087052Z",
     "iopub.status.busy": "2024-05-07T18:01:59.082805Z",
     "iopub.status.idle": "2024-05-07T18:01:59.093900Z",
     "shell.execute_reply": "2024-05-07T18:01:59.094965Z",
     "shell.execute_reply.started": "2024-05-07T16:55:42.212282Z"
    },
    "papermill": {
     "duration": 0.138285,
     "end_time": "2024-05-07T18:01:59.095355",
     "exception": false,
     "start_time": "2024-05-07T18:01:58.957070",
     "status": "completed"
    },
    "tags": []
   },
   "outputs": [],
   "source": [
    "import warnings\n",
    "warnings.filterwarnings('ignore')"
   ]
  },
  {
   "cell_type": "code",
   "execution_count": 2,
   "metadata": {
    "execution": {
     "iopub.execute_input": "2024-05-07T18:01:59.335431Z",
     "iopub.status.busy": "2024-05-07T18:01:59.334167Z",
     "iopub.status.idle": "2024-05-07T18:02:00.442913Z",
     "shell.execute_reply": "2024-05-07T18:02:00.442031Z",
     "shell.execute_reply.started": "2024-05-07T16:55:42.223705Z"
    },
    "papermill": {
     "duration": 1.23549,
     "end_time": "2024-05-07T18:02:00.443071",
     "exception": false,
     "start_time": "2024-05-07T18:01:59.207581",
     "status": "completed"
    },
    "tags": []
   },
   "outputs": [],
   "source": [
    "import numpy as np\n",
    "import pandas as pd\n",
    "import matplotlib.pyplot as plt\n",
    "import seaborn as sns\n",
    "%matplotlib inline"
   ]
  },
  {
   "cell_type": "code",
   "execution_count": 3,
   "metadata": {
    "execution": {
     "iopub.execute_input": "2024-05-07T18:02:00.679136Z",
     "iopub.status.busy": "2024-05-07T18:02:00.678304Z",
     "iopub.status.idle": "2024-05-07T18:02:00.696680Z",
     "shell.execute_reply": "2024-05-07T18:02:00.697438Z",
     "shell.execute_reply.started": "2024-05-07T16:55:43.394355Z"
    },
    "papermill": {
     "duration": 0.147555,
     "end_time": "2024-05-07T18:02:00.697655",
     "exception": false,
     "start_time": "2024-05-07T18:02:00.550100",
     "status": "completed"
    },
    "tags": []
   },
   "outputs": [],
   "source": [
    "insurance= pd.read_csv(\"/kaggle/input/insurance/insurance.csv\")"
   ]
  },
  {
   "cell_type": "code",
   "execution_count": 4,
   "metadata": {
    "execution": {
     "iopub.execute_input": "2024-05-07T18:02:00.904786Z",
     "iopub.status.busy": "2024-05-07T18:02:00.903654Z",
     "iopub.status.idle": "2024-05-07T18:02:00.927540Z",
     "shell.execute_reply": "2024-05-07T18:02:00.928289Z",
     "shell.execute_reply.started": "2024-05-07T16:55:43.419533Z"
    },
    "papermill": {
     "duration": 0.129361,
     "end_time": "2024-05-07T18:02:00.928451",
     "exception": false,
     "start_time": "2024-05-07T18:02:00.799090",
     "status": "completed"
    },
    "tags": []
   },
   "outputs": [
    {
     "data": {
      "text/html": [
       "<div>\n",
       "<style scoped>\n",
       "    .dataframe tbody tr th:only-of-type {\n",
       "        vertical-align: middle;\n",
       "    }\n",
       "\n",
       "    .dataframe tbody tr th {\n",
       "        vertical-align: top;\n",
       "    }\n",
       "\n",
       "    .dataframe thead th {\n",
       "        text-align: right;\n",
       "    }\n",
       "</style>\n",
       "<table border=\"1\" class=\"dataframe\">\n",
       "  <thead>\n",
       "    <tr style=\"text-align: right;\">\n",
       "      <th></th>\n",
       "      <th>age</th>\n",
       "      <th>sex</th>\n",
       "      <th>bmi</th>\n",
       "      <th>children</th>\n",
       "      <th>smoker</th>\n",
       "      <th>region</th>\n",
       "      <th>charges</th>\n",
       "    </tr>\n",
       "  </thead>\n",
       "  <tbody>\n",
       "    <tr>\n",
       "      <th>0</th>\n",
       "      <td>19</td>\n",
       "      <td>female</td>\n",
       "      <td>27.900</td>\n",
       "      <td>0</td>\n",
       "      <td>yes</td>\n",
       "      <td>southwest</td>\n",
       "      <td>16884.92400</td>\n",
       "    </tr>\n",
       "    <tr>\n",
       "      <th>1</th>\n",
       "      <td>18</td>\n",
       "      <td>male</td>\n",
       "      <td>33.770</td>\n",
       "      <td>1</td>\n",
       "      <td>no</td>\n",
       "      <td>southeast</td>\n",
       "      <td>1725.55230</td>\n",
       "    </tr>\n",
       "    <tr>\n",
       "      <th>2</th>\n",
       "      <td>28</td>\n",
       "      <td>male</td>\n",
       "      <td>33.000</td>\n",
       "      <td>3</td>\n",
       "      <td>no</td>\n",
       "      <td>southeast</td>\n",
       "      <td>4449.46200</td>\n",
       "    </tr>\n",
       "    <tr>\n",
       "      <th>3</th>\n",
       "      <td>33</td>\n",
       "      <td>male</td>\n",
       "      <td>22.705</td>\n",
       "      <td>0</td>\n",
       "      <td>no</td>\n",
       "      <td>northwest</td>\n",
       "      <td>21984.47061</td>\n",
       "    </tr>\n",
       "    <tr>\n",
       "      <th>4</th>\n",
       "      <td>32</td>\n",
       "      <td>male</td>\n",
       "      <td>28.880</td>\n",
       "      <td>0</td>\n",
       "      <td>no</td>\n",
       "      <td>northwest</td>\n",
       "      <td>3866.85520</td>\n",
       "    </tr>\n",
       "  </tbody>\n",
       "</table>\n",
       "</div>"
      ],
      "text/plain": [
       "   age     sex     bmi  children smoker     region      charges\n",
       "0   19  female  27.900         0    yes  southwest  16884.92400\n",
       "1   18    male  33.770         1     no  southeast   1725.55230\n",
       "2   28    male  33.000         3     no  southeast   4449.46200\n",
       "3   33    male  22.705         0     no  northwest  21984.47061\n",
       "4   32    male  28.880         0     no  northwest   3866.85520"
      ]
     },
     "execution_count": 4,
     "metadata": {},
     "output_type": "execute_result"
    }
   ],
   "source": [
    "insurance.head()"
   ]
  },
  {
   "cell_type": "code",
   "execution_count": 5,
   "metadata": {
    "execution": {
     "iopub.execute_input": "2024-05-07T18:02:01.143957Z",
     "iopub.status.busy": "2024-05-07T18:02:01.142803Z",
     "iopub.status.idle": "2024-05-07T18:02:01.161219Z",
     "shell.execute_reply": "2024-05-07T18:02:01.160379Z",
     "shell.execute_reply.started": "2024-05-07T16:55:43.450152Z"
    },
    "papermill": {
     "duration": 0.124712,
     "end_time": "2024-05-07T18:02:01.161370",
     "exception": false,
     "start_time": "2024-05-07T18:02:01.036658",
     "status": "completed"
    },
    "tags": []
   },
   "outputs": [
    {
     "name": "stdout",
     "output_type": "stream",
     "text": [
      "<class 'pandas.core.frame.DataFrame'>\n",
      "RangeIndex: 1338 entries, 0 to 1337\n",
      "Data columns (total 7 columns):\n",
      " #   Column    Non-Null Count  Dtype  \n",
      "---  ------    --------------  -----  \n",
      " 0   age       1338 non-null   int64  \n",
      " 1   sex       1338 non-null   object \n",
      " 2   bmi       1338 non-null   float64\n",
      " 3   children  1338 non-null   int64  \n",
      " 4   smoker    1338 non-null   object \n",
      " 5   region    1338 non-null   object \n",
      " 6   charges   1338 non-null   float64\n",
      "dtypes: float64(2), int64(2), object(3)\n",
      "memory usage: 73.3+ KB\n"
     ]
    }
   ],
   "source": [
    "insurance.info()"
   ]
  },
  {
   "cell_type": "code",
   "execution_count": 6,
   "metadata": {
    "execution": {
     "iopub.execute_input": "2024-05-07T18:02:01.375522Z",
     "iopub.status.busy": "2024-05-07T18:02:01.374707Z",
     "iopub.status.idle": "2024-05-07T18:02:01.410721Z",
     "shell.execute_reply": "2024-05-07T18:02:01.411307Z",
     "shell.execute_reply.started": "2024-05-07T16:55:43.476479Z"
    },
    "papermill": {
     "duration": 0.146795,
     "end_time": "2024-05-07T18:02:01.411488",
     "exception": false,
     "start_time": "2024-05-07T18:02:01.264693",
     "status": "completed"
    },
    "tags": []
   },
   "outputs": [
    {
     "data": {
      "text/html": [
       "<div>\n",
       "<style scoped>\n",
       "    .dataframe tbody tr th:only-of-type {\n",
       "        vertical-align: middle;\n",
       "    }\n",
       "\n",
       "    .dataframe tbody tr th {\n",
       "        vertical-align: top;\n",
       "    }\n",
       "\n",
       "    .dataframe thead th {\n",
       "        text-align: right;\n",
       "    }\n",
       "</style>\n",
       "<table border=\"1\" class=\"dataframe\">\n",
       "  <thead>\n",
       "    <tr style=\"text-align: right;\">\n",
       "      <th></th>\n",
       "      <th>age</th>\n",
       "      <th>bmi</th>\n",
       "      <th>children</th>\n",
       "      <th>charges</th>\n",
       "    </tr>\n",
       "  </thead>\n",
       "  <tbody>\n",
       "    <tr>\n",
       "      <th>count</th>\n",
       "      <td>1338.000000</td>\n",
       "      <td>1338.000000</td>\n",
       "      <td>1338.000000</td>\n",
       "      <td>1338.000000</td>\n",
       "    </tr>\n",
       "    <tr>\n",
       "      <th>mean</th>\n",
       "      <td>39.207025</td>\n",
       "      <td>30.663397</td>\n",
       "      <td>1.094918</td>\n",
       "      <td>13270.422265</td>\n",
       "    </tr>\n",
       "    <tr>\n",
       "      <th>std</th>\n",
       "      <td>14.049960</td>\n",
       "      <td>6.098187</td>\n",
       "      <td>1.205493</td>\n",
       "      <td>12110.011237</td>\n",
       "    </tr>\n",
       "    <tr>\n",
       "      <th>min</th>\n",
       "      <td>18.000000</td>\n",
       "      <td>15.960000</td>\n",
       "      <td>0.000000</td>\n",
       "      <td>1121.873900</td>\n",
       "    </tr>\n",
       "    <tr>\n",
       "      <th>25%</th>\n",
       "      <td>27.000000</td>\n",
       "      <td>26.296250</td>\n",
       "      <td>0.000000</td>\n",
       "      <td>4740.287150</td>\n",
       "    </tr>\n",
       "    <tr>\n",
       "      <th>50%</th>\n",
       "      <td>39.000000</td>\n",
       "      <td>30.400000</td>\n",
       "      <td>1.000000</td>\n",
       "      <td>9382.033000</td>\n",
       "    </tr>\n",
       "    <tr>\n",
       "      <th>75%</th>\n",
       "      <td>51.000000</td>\n",
       "      <td>34.693750</td>\n",
       "      <td>2.000000</td>\n",
       "      <td>16639.912515</td>\n",
       "    </tr>\n",
       "    <tr>\n",
       "      <th>max</th>\n",
       "      <td>64.000000</td>\n",
       "      <td>53.130000</td>\n",
       "      <td>5.000000</td>\n",
       "      <td>63770.428010</td>\n",
       "    </tr>\n",
       "  </tbody>\n",
       "</table>\n",
       "</div>"
      ],
      "text/plain": [
       "               age          bmi     children       charges\n",
       "count  1338.000000  1338.000000  1338.000000   1338.000000\n",
       "mean     39.207025    30.663397     1.094918  13270.422265\n",
       "std      14.049960     6.098187     1.205493  12110.011237\n",
       "min      18.000000    15.960000     0.000000   1121.873900\n",
       "25%      27.000000    26.296250     0.000000   4740.287150\n",
       "50%      39.000000    30.400000     1.000000   9382.033000\n",
       "75%      51.000000    34.693750     2.000000  16639.912515\n",
       "max      64.000000    53.130000     5.000000  63770.428010"
      ]
     },
     "execution_count": 6,
     "metadata": {},
     "output_type": "execute_result"
    }
   ],
   "source": [
    "insurance.describe()"
   ]
  },
  {
   "cell_type": "code",
   "execution_count": 7,
   "metadata": {
    "execution": {
     "iopub.execute_input": "2024-05-07T18:02:01.623154Z",
     "iopub.status.busy": "2024-05-07T18:02:01.622283Z",
     "iopub.status.idle": "2024-05-07T18:02:01.629004Z",
     "shell.execute_reply": "2024-05-07T18:02:01.629546Z",
     "shell.execute_reply.started": "2024-05-07T16:55:43.520472Z"
    },
    "papermill": {
     "duration": 0.114295,
     "end_time": "2024-05-07T18:02:01.629763",
     "exception": false,
     "start_time": "2024-05-07T18:02:01.515468",
     "status": "completed"
    },
    "tags": []
   },
   "outputs": [
    {
     "data": {
      "text/plain": [
       "(1338, 7)"
      ]
     },
     "execution_count": 7,
     "metadata": {},
     "output_type": "execute_result"
    }
   ],
   "source": [
    "insurance.shape"
   ]
  },
  {
   "cell_type": "markdown",
   "metadata": {
    "papermill": {
     "duration": 0.102547,
     "end_time": "2024-05-07T18:02:01.835604",
     "exception": false,
     "start_time": "2024-05-07T18:02:01.733057",
     "status": "completed"
    },
    "tags": []
   },
   "source": [
    "## Point to note\n",
    "\n",
    "- Dataset has 1338 rows and 7 columns.\n",
    "- Looking at the data, there seems to be some fields that are categorical in nature, but in integer/float type.\n",
    "\n",
    "- We will analyse and finalize whether to convert them to categorical or treat as integer."
   ]
  },
  {
   "cell_type": "markdown",
   "metadata": {
    "papermill": {
     "duration": 0.120873,
     "end_time": "2024-05-07T18:02:02.061641",
     "exception": false,
     "start_time": "2024-05-07T18:02:01.940768",
     "status": "completed"
    },
    "tags": []
   },
   "source": [
    "# DATA QUALITY CHECK"
   ]
  },
  {
   "cell_type": "markdown",
   "metadata": {
    "papermill": {
     "duration": 0.105612,
     "end_time": "2024-05-07T18:02:02.275064",
     "exception": false,
     "start_time": "2024-05-07T18:02:02.169452",
     "status": "completed"
    },
    "tags": []
   },
   "source": [
    "## Check for NULL/MISSING values"
   ]
  },
  {
   "cell_type": "code",
   "execution_count": 8,
   "metadata": {
    "execution": {
     "iopub.execute_input": "2024-05-07T18:02:02.491183Z",
     "iopub.status.busy": "2024-05-07T18:02:02.489929Z",
     "iopub.status.idle": "2024-05-07T18:02:02.526924Z",
     "shell.execute_reply": "2024-05-07T18:02:02.528018Z",
     "shell.execute_reply.started": "2024-05-07T16:55:43.530159Z"
    },
    "papermill": {
     "duration": 0.145345,
     "end_time": "2024-05-07T18:02:02.528195",
     "exception": false,
     "start_time": "2024-05-07T18:02:02.382850",
     "status": "completed"
    },
    "tags": []
   },
   "outputs": [
    {
     "data": {
      "text/plain": [
       "charges     0.0\n",
       "region      0.0\n",
       "smoker      0.0\n",
       "children    0.0\n",
       "bmi         0.0\n",
       "sex         0.0\n",
       "age         0.0\n",
       "dtype: float64"
      ]
     },
     "execution_count": 8,
     "metadata": {},
     "output_type": "execute_result"
    }
   ],
   "source": [
    "# percentage of missing values in each column\n",
    "round(100*(insurance.isnull().sum()/len(insurance)),2).sort_values(ascending = False)"
   ]
  },
  {
   "cell_type": "code",
   "execution_count": 9,
   "metadata": {
    "execution": {
     "iopub.execute_input": "2024-05-07T18:02:02.755415Z",
     "iopub.status.busy": "2024-05-07T18:02:02.753833Z",
     "iopub.status.idle": "2024-05-07T18:02:02.765527Z",
     "shell.execute_reply": "2024-05-07T18:02:02.766208Z",
     "shell.execute_reply.started": "2024-05-07T16:55:43.568591Z"
    },
    "papermill": {
     "duration": 0.130745,
     "end_time": "2024-05-07T18:02:02.766424",
     "exception": false,
     "start_time": "2024-05-07T18:02:02.635679",
     "status": "completed"
    },
    "tags": []
   },
   "outputs": [
    {
     "data": {
      "text/plain": [
       "1337    0.0\n",
       "439     0.0\n",
       "441     0.0\n",
       "442     0.0\n",
       "443     0.0\n",
       "dtype: float64"
      ]
     },
     "execution_count": 9,
     "metadata": {},
     "output_type": "execute_result"
    }
   ],
   "source": [
    "# percentage of missing values in each row\n",
    "round(100*(insurance.isnull().sum(axis=1)/len(insurance)),2).sort_values(ascending = False)[:5]"
   ]
  },
  {
   "cell_type": "markdown",
   "metadata": {
    "papermill": {
     "duration": 0.117883,
     "end_time": "2024-05-07T18:02:02.996274",
     "exception": false,
     "start_time": "2024-05-07T18:02:02.878391",
     "status": "completed"
    },
    "tags": []
   },
   "source": [
    "### Finding\n",
    "\n",
    "- There are no missing / Null values either in columns or rows"
   ]
  },
  {
   "cell_type": "markdown",
   "metadata": {
    "papermill": {
     "duration": 0.124214,
     "end_time": "2024-05-07T18:02:03.249311",
     "exception": false,
     "start_time": "2024-05-07T18:02:03.125097",
     "status": "completed"
    },
    "tags": []
   },
   "source": [
    "## Duplicate Check"
   ]
  },
  {
   "cell_type": "code",
   "execution_count": 10,
   "metadata": {
    "execution": {
     "iopub.execute_input": "2024-05-07T18:02:03.480629Z",
     "iopub.status.busy": "2024-05-07T18:02:03.479783Z",
     "iopub.status.idle": "2024-05-07T18:02:03.488995Z",
     "shell.execute_reply": "2024-05-07T18:02:03.489650Z",
     "shell.execute_reply.started": "2024-05-07T16:55:43.589288Z"
    },
    "papermill": {
     "duration": 0.124083,
     "end_time": "2024-05-07T18:02:03.489838",
     "exception": false,
     "start_time": "2024-05-07T18:02:03.365755",
     "status": "completed"
    },
    "tags": []
   },
   "outputs": [],
   "source": [
    "insurance_dub=insurance.copy()\n",
    "# Checking for duplicates and dropping the entire duplicate row if any\n",
    "insurance_dub.drop_duplicates(subset=None, inplace=True)"
   ]
  },
  {
   "cell_type": "code",
   "execution_count": 11,
   "metadata": {
    "execution": {
     "iopub.execute_input": "2024-05-07T18:02:03.706836Z",
     "iopub.status.busy": "2024-05-07T18:02:03.706052Z",
     "iopub.status.idle": "2024-05-07T18:02:03.713362Z",
     "shell.execute_reply": "2024-05-07T18:02:03.714077Z",
     "shell.execute_reply.started": "2024-05-07T16:55:43.607108Z"
    },
    "papermill": {
     "duration": 0.118949,
     "end_time": "2024-05-07T18:02:03.714248",
     "exception": false,
     "start_time": "2024-05-07T18:02:03.595299",
     "status": "completed"
    },
    "tags": []
   },
   "outputs": [
    {
     "data": {
      "text/plain": [
       "(1337, 7)"
      ]
     },
     "execution_count": 11,
     "metadata": {},
     "output_type": "execute_result"
    }
   ],
   "source": [
    "insurance_dub.shape"
   ]
  },
  {
   "cell_type": "code",
   "execution_count": 12,
   "metadata": {
    "execution": {
     "iopub.execute_input": "2024-05-07T18:02:03.943822Z",
     "iopub.status.busy": "2024-05-07T18:02:03.943011Z",
     "iopub.status.idle": "2024-05-07T18:02:03.951582Z",
     "shell.execute_reply": "2024-05-07T18:02:03.952224Z",
     "shell.execute_reply.started": "2024-05-07T16:55:43.618635Z"
    },
    "papermill": {
     "duration": 0.130384,
     "end_time": "2024-05-07T18:02:03.952398",
     "exception": false,
     "start_time": "2024-05-07T18:02:03.822014",
     "status": "completed"
    },
    "tags": []
   },
   "outputs": [
    {
     "data": {
      "text/plain": [
       "(1338, 7)"
      ]
     },
     "execution_count": 12,
     "metadata": {},
     "output_type": "execute_result"
    }
   ],
   "source": [
    "insurance.shape"
   ]
  },
  {
   "cell_type": "markdown",
   "metadata": {
    "papermill": {
     "duration": 0.188439,
     "end_time": "2024-05-07T18:02:04.267592",
     "exception": false,
     "start_time": "2024-05-07T18:02:04.079153",
     "status": "completed"
    },
    "tags": []
   },
   "source": [
    "### Insights\n",
    "\n",
    "-The shape after running the drop duplicate command is same as the original dataframe.\n",
    "\n",
    "-Hence we can conclude that there were zero duplicate values in the dataset."
   ]
  },
  {
   "cell_type": "markdown",
   "metadata": {
    "papermill": {
     "duration": 0.12611,
     "end_time": "2024-05-07T18:02:04.511406",
     "exception": false,
     "start_time": "2024-05-07T18:02:04.385296",
     "status": "completed"
    },
    "tags": []
   },
   "source": [
    "## Data Cleaning\n",
    "- Checking value_counts() for entire dataframe.\n",
    "\n",
    "- This will help to identify any Unknow/Junk values present in the dataset."
   ]
  },
  {
   "cell_type": "code",
   "execution_count": 13,
   "metadata": {
    "execution": {
     "iopub.execute_input": "2024-05-07T18:02:04.744426Z",
     "iopub.status.busy": "2024-05-07T18:02:04.743316Z",
     "iopub.status.idle": "2024-05-07T18:02:04.765599Z",
     "shell.execute_reply": "2024-05-07T18:02:04.766638Z",
     "shell.execute_reply.started": "2024-05-07T16:55:43.631021Z"
    },
    "papermill": {
     "duration": 0.1364,
     "end_time": "2024-05-07T18:02:04.766938",
     "exception": false,
     "start_time": "2024-05-07T18:02:04.630538",
     "status": "completed"
    },
    "tags": []
   },
   "outputs": [
    {
     "name": "stdout",
     "output_type": "stream",
     "text": [
      "18    69\n",
      "19    68\n",
      "51    29\n",
      "45    29\n",
      "46    29\n",
      "47    29\n",
      "48    29\n",
      "50    29\n",
      "52    29\n",
      "20    29\n",
      "26    28\n",
      "54    28\n",
      "53    28\n",
      "25    28\n",
      "24    28\n",
      "49    28\n",
      "23    28\n",
      "22    28\n",
      "21    28\n",
      "27    28\n",
      "28    28\n",
      "31    27\n",
      "29    27\n",
      "30    27\n",
      "41    27\n",
      "43    27\n",
      "44    27\n",
      "40    27\n",
      "42    27\n",
      "57    26\n",
      "34    26\n",
      "33    26\n",
      "32    26\n",
      "56    26\n",
      "55    26\n",
      "59    25\n",
      "58    25\n",
      "39    25\n",
      "38    25\n",
      "35    25\n",
      "36    25\n",
      "37    25\n",
      "63    23\n",
      "60    23\n",
      "61    23\n",
      "62    23\n",
      "64    22\n",
      "Name: age, dtype: int64 \n",
      "\n",
      "\n",
      "\n",
      "male      676\n",
      "female    662\n",
      "Name: sex, dtype: int64 \n",
      "\n",
      "\n",
      "\n",
      "32.300    13\n",
      "28.310     9\n",
      "31.350     8\n",
      "30.800     8\n",
      "30.875     8\n",
      "          ..\n",
      "20.100     1\n",
      "29.545     1\n",
      "37.900     1\n",
      "25.520     1\n",
      "24.090     1\n",
      "Name: bmi, Length: 548, dtype: int64 \n",
      "\n",
      "\n",
      "\n",
      "0    574\n",
      "1    324\n",
      "2    240\n",
      "3    157\n",
      "4     25\n",
      "5     18\n",
      "Name: children, dtype: int64 \n",
      "\n",
      "\n",
      "\n",
      "no     1064\n",
      "yes     274\n",
      "Name: smoker, dtype: int64 \n",
      "\n",
      "\n",
      "\n",
      "southeast    364\n",
      "southwest    325\n",
      "northwest    325\n",
      "northeast    324\n",
      "Name: region, dtype: int64 \n",
      "\n",
      "\n",
      "\n",
      "1639.56310     2\n",
      "8825.08600     1\n",
      "43254.41795    1\n",
      "5257.50795     1\n",
      "1980.07000     1\n",
      "              ..\n",
      "12269.68865    1\n",
      "6360.99360     1\n",
      "7371.77200     1\n",
      "16420.49455    1\n",
      "34254.05335    1\n",
      "Name: charges, Length: 1337, dtype: int64 \n",
      "\n",
      "\n",
      "\n"
     ]
    }
   ],
   "source": [
    "for col in insurance:\n",
    "    print(insurance[col].value_counts(ascending=False), '\\n\\n\\n')"
   ]
  },
  {
   "cell_type": "markdown",
   "metadata": {
    "papermill": {
     "duration": 0.107568,
     "end_time": "2024-05-07T18:02:04.985535",
     "exception": false,
     "start_time": "2024-05-07T18:02:04.877967",
     "status": "completed"
    },
    "tags": []
   },
   "source": [
    "### Insights\n",
    "- There seems to be no Junk/Unknown values in the entire dataset."
   ]
  },
  {
   "cell_type": "markdown",
   "metadata": {
    "papermill": {
     "duration": 0.112202,
     "end_time": "2024-05-07T18:02:05.219178",
     "exception": false,
     "start_time": "2024-05-07T18:02:05.106976",
     "status": "completed"
    },
    "tags": []
   },
   "source": [
    "## Creating Dummy Variables\n",
    "\n",
    "- We will create DUMMY variables for 4 categorical variables 'sex','children','smoker' & 'region'.\n",
    "\n",
    "- Before creating dummy variables, we will have to convert them into 'category' data types."
   ]
  },
  {
   "cell_type": "code",
   "execution_count": 14,
   "metadata": {
    "execution": {
     "iopub.execute_input": "2024-05-07T18:02:05.448251Z",
     "iopub.status.busy": "2024-05-07T18:02:05.447247Z",
     "iopub.status.idle": "2024-05-07T18:02:05.451750Z",
     "shell.execute_reply": "2024-05-07T18:02:05.452332Z",
     "shell.execute_reply.started": "2024-05-07T16:55:43.664189Z"
    },
    "papermill": {
     "duration": 0.125153,
     "end_time": "2024-05-07T18:02:05.452511",
     "exception": false,
     "start_time": "2024-05-07T18:02:05.327358",
     "status": "completed"
    },
    "tags": []
   },
   "outputs": [
    {
     "name": "stdout",
     "output_type": "stream",
     "text": [
      "<class 'pandas.core.frame.DataFrame'>\n",
      "RangeIndex: 1338 entries, 0 to 1337\n",
      "Data columns (total 7 columns):\n",
      " #   Column    Non-Null Count  Dtype  \n",
      "---  ------    --------------  -----  \n",
      " 0   age       1338 non-null   int64  \n",
      " 1   sex       1338 non-null   object \n",
      " 2   bmi       1338 non-null   float64\n",
      " 3   children  1338 non-null   int64  \n",
      " 4   smoker    1338 non-null   object \n",
      " 5   region    1338 non-null   object \n",
      " 6   charges   1338 non-null   float64\n",
      "dtypes: float64(2), int64(2), object(3)\n",
      "memory usage: 73.3+ KB\n"
     ]
    }
   ],
   "source": [
    "# Check the datatypes before convertion\n",
    "insurance.info()"
   ]
  },
  {
   "cell_type": "code",
   "execution_count": 15,
   "metadata": {
    "execution": {
     "iopub.execute_input": "2024-05-07T18:02:05.669203Z",
     "iopub.status.busy": "2024-05-07T18:02:05.668376Z",
     "iopub.status.idle": "2024-05-07T18:02:05.684645Z",
     "shell.execute_reply": "2024-05-07T18:02:05.683148Z",
     "shell.execute_reply.started": "2024-05-07T16:55:43.679942Z"
    },
    "papermill": {
     "duration": 0.12528,
     "end_time": "2024-05-07T18:02:05.684936",
     "exception": false,
     "start_time": "2024-05-07T18:02:05.559656",
     "status": "completed"
    },
    "tags": []
   },
   "outputs": [],
   "source": [
    "# Convert to 'category' data type\n",
    "\n",
    "insurance['sex']=insurance['sex'].astype('category')\n",
    "insurance['smoker']=insurance['smoker'].astype('category')\n",
    "insurance['children']=insurance['children'].astype('category')\n",
    "insurance['region']=insurance['region'].astype('category')"
   ]
  },
  {
   "cell_type": "code",
   "execution_count": 16,
   "metadata": {
    "execution": {
     "iopub.execute_input": "2024-05-07T18:02:05.932178Z",
     "iopub.status.busy": "2024-05-07T18:02:05.930695Z",
     "iopub.status.idle": "2024-05-07T18:02:05.962188Z",
     "shell.execute_reply": "2024-05-07T18:02:05.962753Z",
     "shell.execute_reply.started": "2024-05-07T16:55:43.697921Z"
    },
    "papermill": {
     "duration": 0.160801,
     "end_time": "2024-05-07T18:02:05.962976",
     "exception": false,
     "start_time": "2024-05-07T18:02:05.802175",
     "status": "completed"
    },
    "tags": []
   },
   "outputs": [
    {
     "name": "stdout",
     "output_type": "stream",
     "text": [
      "<class 'pandas.core.frame.DataFrame'>\n",
      "RangeIndex: 1338 entries, 0 to 1337\n",
      "Data columns (total 13 columns):\n",
      " #   Column            Non-Null Count  Dtype  \n",
      "---  ------            --------------  -----  \n",
      " 0   age               1338 non-null   int64  \n",
      " 1   bmi               1338 non-null   float64\n",
      " 2   charges           1338 non-null   float64\n",
      " 3   sex_male          1338 non-null   uint8  \n",
      " 4   children_1        1338 non-null   uint8  \n",
      " 5   children_2        1338 non-null   uint8  \n",
      " 6   children_3        1338 non-null   uint8  \n",
      " 7   children_4        1338 non-null   uint8  \n",
      " 8   children_5        1338 non-null   uint8  \n",
      " 9   smoker_yes        1338 non-null   uint8  \n",
      " 10  region_northwest  1338 non-null   uint8  \n",
      " 11  region_southeast  1338 non-null   uint8  \n",
      " 12  region_southwest  1338 non-null   uint8  \n",
      "dtypes: float64(2), int64(1), uint8(10)\n",
      "memory usage: 44.6 KB\n"
     ]
    }
   ],
   "source": [
    "# This code does 3 things:\n",
    "# 1) Create Dummy variable\n",
    "# 2) Drop original variable for which the dummy was created\n",
    "# 3) Drop first dummy variable for each set of dummies created.\n",
    "\n",
    "insurance_new = pd.get_dummies(insurance, drop_first=True)\n",
    "insurance_new.info()"
   ]
  },
  {
   "cell_type": "code",
   "execution_count": 17,
   "metadata": {
    "execution": {
     "iopub.execute_input": "2024-05-07T18:02:06.191412Z",
     "iopub.status.busy": "2024-05-07T18:02:06.190275Z",
     "iopub.status.idle": "2024-05-07T18:02:06.197259Z",
     "shell.execute_reply": "2024-05-07T18:02:06.197941Z",
     "shell.execute_reply.started": "2024-05-07T16:55:43.742313Z"
    },
    "papermill": {
     "duration": 0.119551,
     "end_time": "2024-05-07T18:02:06.198144",
     "exception": false,
     "start_time": "2024-05-07T18:02:06.078593",
     "status": "completed"
    },
    "tags": []
   },
   "outputs": [
    {
     "data": {
      "text/plain": [
       "(1338, 13)"
      ]
     },
     "execution_count": 17,
     "metadata": {},
     "output_type": "execute_result"
    }
   ],
   "source": [
    "insurance_new.shape"
   ]
  },
  {
   "cell_type": "markdown",
   "metadata": {
    "papermill": {
     "duration": 0.106684,
     "end_time": "2024-05-07T18:02:06.430311",
     "exception": false,
     "start_time": "2024-05-07T18:02:06.323627",
     "status": "completed"
    },
    "tags": []
   },
   "source": [
    "# SPLITTING THE DATA\n",
    "- Splitting the data to Train and Test: - We will now split the data into TRAIN and TEST (70:30 ratio)\n",
    "- We will use train_test_split method from sklearn package for this"
   ]
  },
  {
   "cell_type": "code",
   "execution_count": 18,
   "metadata": {
    "execution": {
     "iopub.execute_input": "2024-05-07T18:02:06.650683Z",
     "iopub.status.busy": "2024-05-07T18:02:06.649835Z",
     "iopub.status.idle": "2024-05-07T18:02:06.656724Z",
     "shell.execute_reply": "2024-05-07T18:02:06.657359Z",
     "shell.execute_reply.started": "2024-05-07T16:55:43.751962Z"
    },
    "papermill": {
     "duration": 0.118708,
     "end_time": "2024-05-07T18:02:06.657532",
     "exception": false,
     "start_time": "2024-05-07T18:02:06.538824",
     "status": "completed"
    },
    "tags": []
   },
   "outputs": [
    {
     "data": {
      "text/plain": [
       "(1338, 13)"
      ]
     },
     "execution_count": 18,
     "metadata": {},
     "output_type": "execute_result"
    }
   ],
   "source": [
    "\n",
    "# Check the shape before spliting\n",
    "\n",
    "insurance_new.shape"
   ]
  },
  {
   "cell_type": "code",
   "execution_count": 19,
   "metadata": {
    "execution": {
     "iopub.execute_input": "2024-05-07T18:02:06.875150Z",
     "iopub.status.busy": "2024-05-07T18:02:06.874299Z",
     "iopub.status.idle": "2024-05-07T18:02:06.889084Z",
     "shell.execute_reply": "2024-05-07T18:02:06.888411Z",
     "shell.execute_reply.started": "2024-05-07T16:55:43.768399Z"
    },
    "papermill": {
     "duration": 0.125081,
     "end_time": "2024-05-07T18:02:06.889235",
     "exception": false,
     "start_time": "2024-05-07T18:02:06.764154",
     "status": "completed"
    },
    "tags": []
   },
   "outputs": [
    {
     "name": "stdout",
     "output_type": "stream",
     "text": [
      "<class 'pandas.core.frame.DataFrame'>\n",
      "RangeIndex: 1338 entries, 0 to 1337\n",
      "Data columns (total 13 columns):\n",
      " #   Column            Non-Null Count  Dtype  \n",
      "---  ------            --------------  -----  \n",
      " 0   age               1338 non-null   int64  \n",
      " 1   bmi               1338 non-null   float64\n",
      " 2   charges           1338 non-null   float64\n",
      " 3   sex_male          1338 non-null   uint8  \n",
      " 4   children_1        1338 non-null   uint8  \n",
      " 5   children_2        1338 non-null   uint8  \n",
      " 6   children_3        1338 non-null   uint8  \n",
      " 7   children_4        1338 non-null   uint8  \n",
      " 8   children_5        1338 non-null   uint8  \n",
      " 9   smoker_yes        1338 non-null   uint8  \n",
      " 10  region_northwest  1338 non-null   uint8  \n",
      " 11  region_southeast  1338 non-null   uint8  \n",
      " 12  region_southwest  1338 non-null   uint8  \n",
      "dtypes: float64(2), int64(1), uint8(10)\n",
      "memory usage: 44.6 KB\n"
     ]
    }
   ],
   "source": [
    "# Check the info before spliting\n",
    "\n",
    "insurance_new.info()"
   ]
  },
  {
   "cell_type": "code",
   "execution_count": 20,
   "metadata": {
    "execution": {
     "iopub.execute_input": "2024-05-07T18:02:07.120124Z",
     "iopub.status.busy": "2024-05-07T18:02:07.119346Z",
     "iopub.status.idle": "2024-05-07T18:02:07.275263Z",
     "shell.execute_reply": "2024-05-07T18:02:07.274603Z",
     "shell.execute_reply.started": "2024-05-07T16:55:43.788109Z"
    },
    "papermill": {
     "duration": 0.278935,
     "end_time": "2024-05-07T18:02:07.275407",
     "exception": false,
     "start_time": "2024-05-07T18:02:06.996472",
     "status": "completed"
    },
    "tags": []
   },
   "outputs": [],
   "source": [
    "from sklearn.model_selection import train_test_split\n",
    "\n",
    "# We should specify 'random_state' so that the train and test data set always have the same rows, respectively\n",
    "\n",
    "np.random.seed(0)\n",
    "df_train, df_test = train_test_split(insurance_new, train_size = 0.70, test_size = 0.30, random_state = 100)"
   ]
  },
  {
   "cell_type": "markdown",
   "metadata": {
    "papermill": {
     "duration": 0.105837,
     "end_time": "2024-05-07T18:02:07.488475",
     "exception": false,
     "start_time": "2024-05-07T18:02:07.382638",
     "status": "completed"
    },
    "tags": []
   },
   "source": [
    "- Verify the info and shape of the dataframes after split:"
   ]
  },
  {
   "cell_type": "code",
   "execution_count": 21,
   "metadata": {
    "execution": {
     "iopub.execute_input": "2024-05-07T18:02:07.719577Z",
     "iopub.status.busy": "2024-05-07T18:02:07.711054Z",
     "iopub.status.idle": "2024-05-07T18:02:07.724466Z",
     "shell.execute_reply": "2024-05-07T18:02:07.725198Z",
     "shell.execute_reply.started": "2024-05-07T16:55:43.933859Z"
    },
    "papermill": {
     "duration": 0.128973,
     "end_time": "2024-05-07T18:02:07.725410",
     "exception": false,
     "start_time": "2024-05-07T18:02:07.596437",
     "status": "completed"
    },
    "tags": []
   },
   "outputs": [
    {
     "name": "stdout",
     "output_type": "stream",
     "text": [
      "<class 'pandas.core.frame.DataFrame'>\n",
      "Int64Index: 936 entries, 966 to 792\n",
      "Data columns (total 13 columns):\n",
      " #   Column            Non-Null Count  Dtype  \n",
      "---  ------            --------------  -----  \n",
      " 0   age               936 non-null    int64  \n",
      " 1   bmi               936 non-null    float64\n",
      " 2   charges           936 non-null    float64\n",
      " 3   sex_male          936 non-null    uint8  \n",
      " 4   children_1        936 non-null    uint8  \n",
      " 5   children_2        936 non-null    uint8  \n",
      " 6   children_3        936 non-null    uint8  \n",
      " 7   children_4        936 non-null    uint8  \n",
      " 8   children_5        936 non-null    uint8  \n",
      " 9   smoker_yes        936 non-null    uint8  \n",
      " 10  region_northwest  936 non-null    uint8  \n",
      " 11  region_southeast  936 non-null    uint8  \n",
      " 12  region_southwest  936 non-null    uint8  \n",
      "dtypes: float64(2), int64(1), uint8(10)\n",
      "memory usage: 38.4 KB\n"
     ]
    }
   ],
   "source": [
    "df_train.info()"
   ]
  },
  {
   "cell_type": "code",
   "execution_count": 22,
   "metadata": {
    "execution": {
     "iopub.execute_input": "2024-05-07T18:02:07.964824Z",
     "iopub.status.busy": "2024-05-07T18:02:07.963769Z",
     "iopub.status.idle": "2024-05-07T18:02:07.969144Z",
     "shell.execute_reply": "2024-05-07T18:02:07.968357Z",
     "shell.execute_reply.started": "2024-05-07T16:55:43.953384Z"
    },
    "papermill": {
     "duration": 0.125627,
     "end_time": "2024-05-07T18:02:07.969296",
     "exception": false,
     "start_time": "2024-05-07T18:02:07.843669",
     "status": "completed"
    },
    "tags": []
   },
   "outputs": [
    {
     "data": {
      "text/plain": [
       "(936, 13)"
      ]
     },
     "execution_count": 22,
     "metadata": {},
     "output_type": "execute_result"
    }
   ],
   "source": [
    "df_train.shape"
   ]
  },
  {
   "cell_type": "code",
   "execution_count": 23,
   "metadata": {
    "execution": {
     "iopub.execute_input": "2024-05-07T18:02:08.229064Z",
     "iopub.status.busy": "2024-05-07T18:02:08.227392Z",
     "iopub.status.idle": "2024-05-07T18:02:08.233411Z",
     "shell.execute_reply": "2024-05-07T18:02:08.232516Z",
     "shell.execute_reply.started": "2024-05-07T16:55:43.969230Z"
    },
    "papermill": {
     "duration": 0.141928,
     "end_time": "2024-05-07T18:02:08.233582",
     "exception": false,
     "start_time": "2024-05-07T18:02:08.091654",
     "status": "completed"
    },
    "tags": []
   },
   "outputs": [
    {
     "name": "stdout",
     "output_type": "stream",
     "text": [
      "<class 'pandas.core.frame.DataFrame'>\n",
      "Int64Index: 402 entries, 12 to 1164\n",
      "Data columns (total 13 columns):\n",
      " #   Column            Non-Null Count  Dtype  \n",
      "---  ------            --------------  -----  \n",
      " 0   age               402 non-null    int64  \n",
      " 1   bmi               402 non-null    float64\n",
      " 2   charges           402 non-null    float64\n",
      " 3   sex_male          402 non-null    uint8  \n",
      " 4   children_1        402 non-null    uint8  \n",
      " 5   children_2        402 non-null    uint8  \n",
      " 6   children_3        402 non-null    uint8  \n",
      " 7   children_4        402 non-null    uint8  \n",
      " 8   children_5        402 non-null    uint8  \n",
      " 9   smoker_yes        402 non-null    uint8  \n",
      " 10  region_northwest  402 non-null    uint8  \n",
      " 11  region_southeast  402 non-null    uint8  \n",
      " 12  region_southwest  402 non-null    uint8  \n",
      "dtypes: float64(2), int64(1), uint8(10)\n",
      "memory usage: 16.5 KB\n"
     ]
    }
   ],
   "source": [
    "df_test.info()"
   ]
  },
  {
   "cell_type": "code",
   "execution_count": 24,
   "metadata": {
    "execution": {
     "iopub.execute_input": "2024-05-07T18:02:08.470751Z",
     "iopub.status.busy": "2024-05-07T18:02:08.469944Z",
     "iopub.status.idle": "2024-05-07T18:02:08.476284Z",
     "shell.execute_reply": "2024-05-07T18:02:08.475606Z",
     "shell.execute_reply.started": "2024-05-07T16:55:43.989866Z"
    },
    "papermill": {
     "duration": 0.124079,
     "end_time": "2024-05-07T18:02:08.476433",
     "exception": false,
     "start_time": "2024-05-07T18:02:08.352354",
     "status": "completed"
    },
    "tags": []
   },
   "outputs": [
    {
     "data": {
      "text/plain": [
       "(402, 13)"
      ]
     },
     "execution_count": 24,
     "metadata": {},
     "output_type": "execute_result"
    }
   ],
   "source": [
    "df_test.shape"
   ]
  },
  {
   "cell_type": "markdown",
   "metadata": {
    "papermill": {
     "duration": 0.111928,
     "end_time": "2024-05-07T18:02:08.702622",
     "exception": false,
     "start_time": "2024-05-07T18:02:08.590694",
     "status": "completed"
    },
    "tags": []
   },
   "source": [
    "# EXPLORATORY DATA ANALYSIS\n",
    "-We need to perform the EDA on TRAINING (df_train) Dataset.\n",
    "## Visualising Numeric Variables\n",
    "- Let's make a pairplot of all the numeric variables."
   ]
  },
  {
   "cell_type": "code",
   "execution_count": 25,
   "metadata": {
    "execution": {
     "iopub.execute_input": "2024-05-07T18:02:08.947259Z",
     "iopub.status.busy": "2024-05-07T18:02:08.946218Z",
     "iopub.status.idle": "2024-05-07T18:02:08.958759Z",
     "shell.execute_reply": "2024-05-07T18:02:08.959451Z",
     "shell.execute_reply.started": "2024-05-07T16:55:44.006675Z"
    },
    "papermill": {
     "duration": 0.134968,
     "end_time": "2024-05-07T18:02:08.959690",
     "exception": false,
     "start_time": "2024-05-07T18:02:08.824722",
     "status": "completed"
    },
    "tags": []
   },
   "outputs": [
    {
     "name": "stdout",
     "output_type": "stream",
     "text": [
      "<class 'pandas.core.frame.DataFrame'>\n",
      "Int64Index: 936 entries, 966 to 792\n",
      "Data columns (total 13 columns):\n",
      " #   Column            Non-Null Count  Dtype  \n",
      "---  ------            --------------  -----  \n",
      " 0   age               936 non-null    int64  \n",
      " 1   bmi               936 non-null    float64\n",
      " 2   charges           936 non-null    float64\n",
      " 3   sex_male          936 non-null    uint8  \n",
      " 4   children_1        936 non-null    uint8  \n",
      " 5   children_2        936 non-null    uint8  \n",
      " 6   children_3        936 non-null    uint8  \n",
      " 7   children_4        936 non-null    uint8  \n",
      " 8   children_5        936 non-null    uint8  \n",
      " 9   smoker_yes        936 non-null    uint8  \n",
      " 10  region_northwest  936 non-null    uint8  \n",
      " 11  region_southeast  936 non-null    uint8  \n",
      " 12  region_southwest  936 non-null    uint8  \n",
      "dtypes: float64(2), int64(1), uint8(10)\n",
      "memory usage: 38.4 KB\n"
     ]
    }
   ],
   "source": [
    "df_train.info()"
   ]
  },
  {
   "cell_type": "code",
   "execution_count": 26,
   "metadata": {
    "execution": {
     "iopub.execute_input": "2024-05-07T18:02:09.224949Z",
     "iopub.status.busy": "2024-05-07T18:02:09.223188Z",
     "iopub.status.idle": "2024-05-07T18:02:09.230237Z",
     "shell.execute_reply": "2024-05-07T18:02:09.231345Z",
     "shell.execute_reply.started": "2024-05-07T16:55:44.033217Z"
    },
    "papermill": {
     "duration": 0.132468,
     "end_time": "2024-05-07T18:02:09.231681",
     "exception": false,
     "start_time": "2024-05-07T18:02:09.099213",
     "status": "completed"
    },
    "tags": []
   },
   "outputs": [
    {
     "data": {
      "text/plain": [
       "Index(['age', 'bmi', 'charges', 'sex_male', 'children_1', 'children_2',\n",
       "       'children_3', 'children_4', 'children_5', 'smoker_yes',\n",
       "       'region_northwest', 'region_southeast', 'region_southwest'],\n",
       "      dtype='object')"
      ]
     },
     "execution_count": 26,
     "metadata": {},
     "output_type": "execute_result"
    }
   ],
   "source": [
    "df_train.columns"
   ]
  },
  {
   "cell_type": "code",
   "execution_count": 27,
   "metadata": {
    "execution": {
     "iopub.execute_input": "2024-05-07T18:02:09.490320Z",
     "iopub.status.busy": "2024-05-07T18:02:09.489522Z",
     "iopub.status.idle": "2024-05-07T18:02:12.425431Z",
     "shell.execute_reply": "2024-05-07T18:02:12.426533Z",
     "shell.execute_reply.started": "2024-05-07T16:55:44.046048Z"
    },
    "papermill": {
     "duration": 3.059064,
     "end_time": "2024-05-07T18:02:12.426774",
     "exception": false,
     "start_time": "2024-05-07T18:02:09.367710",
     "status": "completed"
    },
    "tags": []
   },
   "outputs": [
    {
     "data": {
      "image/png": "[encoded data removed]",
      "text/plain": [
       "<Figure size 540x540 with 12 Axes>"
      ]
     },
     "metadata": {
      "needs_background": "light"
     },
     "output_type": "display_data"
    }
   ],
   "source": [
    "# Create a new dataframe of only numeric variables:\n",
    "\n",
    "insurance_num=df_train[[ 'age', 'bmi', 'charges']]\n",
    "\n",
    "sns.pairplot(insurance_num, diag_kind='kde')\n",
    "plt.show()"
   ]
  },
  {
   "cell_type": "markdown",
   "metadata": {
    "papermill": {
     "duration": 0.121571,
     "end_time": "2024-05-07T18:02:12.671438",
     "exception": false,
     "start_time": "2024-05-07T18:02:12.549867",
     "status": "completed"
    },
    "tags": []
   },
   "source": [
    "## Insights\n",
    "- The above Pair-Plot tells us that there is a LINEAR RELATION between 'age','bmi' and 'charges'"
   ]
  },
  {
   "cell_type": "markdown",
   "metadata": {
    "papermill": {
     "duration": 0.117588,
     "end_time": "2024-05-07T18:02:12.911668",
     "exception": false,
     "start_time": "2024-05-07T18:02:12.794080",
     "status": "completed"
    },
    "tags": []
   },
   "source": [
    "## Visualising Catagorical Variables"
   ]
  },
  {
   "cell_type": "code",
   "execution_count": 28,
   "metadata": {
    "execution": {
     "iopub.execute_input": "2024-05-07T18:02:13.178729Z",
     "iopub.status.busy": "2024-05-07T18:02:13.177891Z",
     "iopub.status.idle": "2024-05-07T18:02:13.185647Z",
     "shell.execute_reply": "2024-05-07T18:02:13.186325Z",
     "shell.execute_reply.started": "2024-05-07T16:55:46.845666Z"
    },
    "papermill": {
     "duration": 0.147551,
     "end_time": "2024-05-07T18:02:13.186559",
     "exception": false,
     "start_time": "2024-05-07T18:02:13.039008",
     "status": "completed"
    },
    "tags": []
   },
   "outputs": [
    {
     "name": "stdout",
     "output_type": "stream",
     "text": [
      "<class 'pandas.core.frame.DataFrame'>\n",
      "Int64Index: 936 entries, 966 to 792\n",
      "Data columns (total 13 columns):\n",
      " #   Column            Non-Null Count  Dtype  \n",
      "---  ------            --------------  -----  \n",
      " 0   age               936 non-null    int64  \n",
      " 1   bmi               936 non-null    float64\n",
      " 2   charges           936 non-null    float64\n",
      " 3   sex_male          936 non-null    uint8  \n",
      " 4   children_1        936 non-null    uint8  \n",
      " 5   children_2        936 non-null    uint8  \n",
      " 6   children_3        936 non-null    uint8  \n",
      " 7   children_4        936 non-null    uint8  \n",
      " 8   children_5        936 non-null    uint8  \n",
      " 9   smoker_yes        936 non-null    uint8  \n",
      " 10  region_northwest  936 non-null    uint8  \n",
      " 11  region_southeast  936 non-null    uint8  \n",
      " 12  region_southwest  936 non-null    uint8  \n",
      "dtypes: float64(2), int64(1), uint8(10)\n",
      "memory usage: 78.4 KB\n"
     ]
    }
   ],
   "source": [
    "df_train.info()"
   ]
  },
  {
   "cell_type": "code",
   "execution_count": 29,
   "metadata": {
    "execution": {
     "iopub.execute_input": "2024-05-07T18:02:13.460600Z",
     "iopub.status.busy": "2024-05-07T18:02:13.459662Z",
     "iopub.status.idle": "2024-05-07T18:02:14.210518Z",
     "shell.execute_reply": "2024-05-07T18:02:14.209841Z",
     "shell.execute_reply.started": "2024-05-07T17:20:05.321479Z"
    },
    "papermill": {
     "duration": 0.894842,
     "end_time": "2024-05-07T18:02:14.210681",
     "exception": false,
     "start_time": "2024-05-07T18:02:13.315839",
     "status": "completed"
    },
    "tags": []
   },
   "outputs": [
    {
     "data": {
      "image/png": "[encoded data removed]",
      "text/plain": [
       "<Figure size 1440x720 with 4 Axes>"
      ]
     },
     "metadata": {
      "needs_background": "light"
     },
     "output_type": "display_data"
    }
   ],
   "source": [
    "# Build boxplot of all categorical variables (before creating dummies) againt the target variable 'cnt' \n",
    "# to see how each of the predictor variable stackup against the target variable.\n",
    "\n",
    "plt.figure(figsize=(20, 10))\n",
    "plt.subplot(2,2,1)\n",
    "sns.boxplot(x = 'sex', y = 'charges', data = insurance)\n",
    "plt.subplot(2,2,2)\n",
    "sns.boxplot(x = 'children', y = 'charges', data = insurance)\n",
    "plt.subplot(2,2,3)\n",
    "sns.boxplot(x = 'smoker', y = 'charges', data = insurance)\n",
    "plt.subplot(2,2,4)\n",
    "sns.boxplot(x = 'region', y = 'charges', data = insurance)\n",
    "plt.show()"
   ]
  },
  {
   "cell_type": "markdown",
   "metadata": {
    "papermill": {
     "duration": 0.132704,
     "end_time": "2024-05-07T18:02:14.468212",
     "exception": false,
     "start_time": "2024-05-07T18:02:14.335508",
     "status": "completed"
    },
    "tags": []
   },
   "source": [
    "# Insights\n",
    "There were  4 categorical variables in the dataset.\n",
    "\n",
    "We used Box plot (refer the fig above) to study their effect on the dependent variable (‘charges’) .\n",
    "\n",
    "The inference that We could derive were:\n",
    "\n",
    "- **sex**: data is bit baised towards male , data is represented as 50.5 : 49.5 for male: female . Interquartile range for male is higher compared  to interquartile range for female.\n",
    "\n",
    "- **smoker**: 20.5 % of our data are smoker. Median for Smokers are quite high compared to people who don't smoke.\n",
    "\n",
    "- **Children** : People have 2 children are having highest data  distribution  between 50 percentile to 75 percentile among all others.\n",
    "- **Region** : Region as Souteast are having highest data  distribution  between 50 percentile to 75 percentile among all others."
   ]
  },
  {
   "cell_type": "markdown",
   "metadata": {
    "papermill": {
     "duration": 0.115581,
     "end_time": "2024-05-07T18:02:14.713642",
     "exception": false,
     "start_time": "2024-05-07T18:02:14.598061",
     "status": "completed"
    },
    "tags": []
   },
   "source": [
    "## Correlation Matrix"
   ]
  },
  {
   "cell_type": "code",
   "execution_count": 30,
   "metadata": {
    "execution": {
     "iopub.execute_input": "2024-05-07T18:02:14.959408Z",
     "iopub.status.busy": "2024-05-07T18:02:14.958573Z",
     "iopub.status.idle": "2024-05-07T18:02:16.058800Z",
     "shell.execute_reply": "2024-05-07T18:02:16.057976Z",
     "shell.execute_reply.started": "2024-05-07T16:55:47.658083Z"
    },
    "papermill": {
     "duration": 1.22581,
     "end_time": "2024-05-07T18:02:16.058957",
     "exception": false,
     "start_time": "2024-05-07T18:02:14.833147",
     "status": "completed"
    },
    "tags": []
   },
   "outputs": [
    {
     "data": {
      "image/png": "[encoded data removed]",
      "text/plain": [
       "<Figure size 1800x720 with 2 Axes>"
      ]
     },
     "metadata": {
      "needs_background": "light"
     },
     "output_type": "display_data"
    }
   ],
   "source": [
    "# Let's check the correlation coefficients to see which variables are highly correlated. Note:\n",
    "# here we are considering only those variables (dataframe: insurance_new) that were chosen for analysis\n",
    "\n",
    "plt.figure(figsize = (25,10))\n",
    "sns.heatmap(insurance_new.corr(), annot = True, cmap=\"RdBu\")\n",
    "plt.show()"
   ]
  },
  {
   "cell_type": "markdown",
   "metadata": {
    "papermill": {
     "duration": 0.12269,
     "end_time": "2024-05-07T18:02:16.303106",
     "exception": false,
     "start_time": "2024-05-07T18:02:16.180416",
     "status": "completed"
    },
    "tags": []
   },
   "source": [
    "## Insights:\n",
    "- The heatmap clearly shows which all variable are multicollinear in nature, and which variable have high collinearity with the target variable.\n",
    "- We will refer this map back-and-forth while building the linear model so as to validate different correlated values along with VIF & p-value, for identifying the correct variable to select/eliminate from the model."
   ]
  },
  {
   "cell_type": "markdown",
   "metadata": {
    "papermill": {
     "duration": 0.120027,
     "end_time": "2024-05-07T18:02:16.546132",
     "exception": false,
     "start_time": "2024-05-07T18:02:16.426105",
     "status": "completed"
    },
    "tags": []
   },
   "source": [
    "# RESCALING THE FEATURES"
   ]
  },
  {
   "cell_type": "code",
   "execution_count": 31,
   "metadata": {
    "execution": {
     "iopub.execute_input": "2024-05-07T18:02:16.797871Z",
     "iopub.status.busy": "2024-05-07T18:02:16.797084Z",
     "iopub.status.idle": "2024-05-07T18:02:16.801239Z",
     "shell.execute_reply": "2024-05-07T18:02:16.802044Z",
     "shell.execute_reply.started": "2024-05-07T16:55:48.687536Z"
    },
    "papermill": {
     "duration": 0.132966,
     "end_time": "2024-05-07T18:02:16.802237",
     "exception": false,
     "start_time": "2024-05-07T18:02:16.669271",
     "status": "completed"
    },
    "tags": []
   },
   "outputs": [],
   "source": [
    "from sklearn.preprocessing import MinMaxScaler"
   ]
  },
  {
   "cell_type": "code",
   "execution_count": 32,
   "metadata": {
    "execution": {
     "iopub.execute_input": "2024-05-07T18:02:17.055533Z",
     "iopub.status.busy": "2024-05-07T18:02:17.054317Z",
     "iopub.status.idle": "2024-05-07T18:02:17.058280Z",
     "shell.execute_reply": "2024-05-07T18:02:17.057476Z",
     "shell.execute_reply.started": "2024-05-07T16:55:48.703328Z"
    },
    "papermill": {
     "duration": 0.135107,
     "end_time": "2024-05-07T18:02:17.058415",
     "exception": false,
     "start_time": "2024-05-07T18:02:16.923308",
     "status": "completed"
    },
    "tags": []
   },
   "outputs": [],
   "source": [
    "scaler= MinMaxScaler()"
   ]
  },
  {
   "cell_type": "code",
   "execution_count": 33,
   "metadata": {
    "execution": {
     "iopub.execute_input": "2024-05-07T18:02:17.323948Z",
     "iopub.status.busy": "2024-05-07T18:02:17.322871Z",
     "iopub.status.idle": "2024-05-07T18:02:17.328927Z",
     "shell.execute_reply": "2024-05-07T18:02:17.328144Z",
     "shell.execute_reply.started": "2024-05-07T17:35:42.539573Z"
    },
    "papermill": {
     "duration": 0.146177,
     "end_time": "2024-05-07T18:02:17.329073",
     "exception": false,
     "start_time": "2024-05-07T18:02:17.182896",
     "status": "completed"
    },
    "tags": []
   },
   "outputs": [
    {
     "data": {
      "text/html": [
       "<div>\n",
       "<style scoped>\n",
       "    .dataframe tbody tr th:only-of-type {\n",
       "        vertical-align: middle;\n",
       "    }\n",
       "\n",
       "    .dataframe tbody tr th {\n",
       "        vertical-align: top;\n",
       "    }\n",
       "\n",
       "    .dataframe thead th {\n",
       "        text-align: right;\n",
       "    }\n",
       "</style>\n",
       "<table border=\"1\" class=\"dataframe\">\n",
       "  <thead>\n",
       "    <tr style=\"text-align: right;\">\n",
       "      <th></th>\n",
       "      <th>age</th>\n",
       "      <th>bmi</th>\n",
       "      <th>charges</th>\n",
       "      <th>sex_male</th>\n",
       "      <th>children_1</th>\n",
       "      <th>children_2</th>\n",
       "      <th>children_3</th>\n",
       "      <th>children_4</th>\n",
       "      <th>children_5</th>\n",
       "      <th>smoker_yes</th>\n",
       "      <th>region_northwest</th>\n",
       "      <th>region_southeast</th>\n",
       "      <th>region_southwest</th>\n",
       "    </tr>\n",
       "  </thead>\n",
       "  <tbody>\n",
       "    <tr>\n",
       "      <th>966</th>\n",
       "      <td>51</td>\n",
       "      <td>24.795</td>\n",
       "      <td>23967.38305</td>\n",
       "      <td>1</td>\n",
       "      <td>0</td>\n",
       "      <td>1</td>\n",
       "      <td>0</td>\n",
       "      <td>0</td>\n",
       "      <td>0</td>\n",
       "      <td>1</td>\n",
       "      <td>1</td>\n",
       "      <td>0</td>\n",
       "      <td>0</td>\n",
       "    </tr>\n",
       "    <tr>\n",
       "      <th>522</th>\n",
       "      <td>51</td>\n",
       "      <td>33.915</td>\n",
       "      <td>9866.30485</td>\n",
       "      <td>0</td>\n",
       "      <td>0</td>\n",
       "      <td>0</td>\n",
       "      <td>0</td>\n",
       "      <td>0</td>\n",
       "      <td>0</td>\n",
       "      <td>0</td>\n",
       "      <td>0</td>\n",
       "      <td>0</td>\n",
       "      <td>0</td>\n",
       "    </tr>\n",
       "    <tr>\n",
       "      <th>155</th>\n",
       "      <td>44</td>\n",
       "      <td>39.520</td>\n",
       "      <td>6948.70080</td>\n",
       "      <td>1</td>\n",
       "      <td>0</td>\n",
       "      <td>0</td>\n",
       "      <td>0</td>\n",
       "      <td>0</td>\n",
       "      <td>0</td>\n",
       "      <td>0</td>\n",
       "      <td>1</td>\n",
       "      <td>0</td>\n",
       "      <td>0</td>\n",
       "    </tr>\n",
       "    <tr>\n",
       "      <th>671</th>\n",
       "      <td>29</td>\n",
       "      <td>31.160</td>\n",
       "      <td>3943.59540</td>\n",
       "      <td>0</td>\n",
       "      <td>0</td>\n",
       "      <td>0</td>\n",
       "      <td>0</td>\n",
       "      <td>0</td>\n",
       "      <td>0</td>\n",
       "      <td>0</td>\n",
       "      <td>0</td>\n",
       "      <td>0</td>\n",
       "      <td>0</td>\n",
       "    </tr>\n",
       "    <tr>\n",
       "      <th>1173</th>\n",
       "      <td>38</td>\n",
       "      <td>29.260</td>\n",
       "      <td>6457.84340</td>\n",
       "      <td>1</td>\n",
       "      <td>0</td>\n",
       "      <td>1</td>\n",
       "      <td>0</td>\n",
       "      <td>0</td>\n",
       "      <td>0</td>\n",
       "      <td>0</td>\n",
       "      <td>1</td>\n",
       "      <td>0</td>\n",
       "      <td>0</td>\n",
       "    </tr>\n",
       "  </tbody>\n",
       "</table>\n",
       "</div>"
      ],
      "text/plain": [
       "      age     bmi      charges  sex_male  children_1  children_2  children_3  \\\n",
       "966    51  24.795  23967.38305         1           0           1           0   \n",
       "522    51  33.915   9866.30485         0           0           0           0   \n",
       "155    44  39.520   6948.70080         1           0           0           0   \n",
       "671    29  31.160   3943.59540         0           0           0           0   \n",
       "1173   38  29.260   6457.84340         1           0           1           0   \n",
       "\n",
       "      children_4  children_5  smoker_yes  region_northwest  region_southeast  \\\n",
       "966            0           0           1                 1                 0   \n",
       "522            0           0           0                 0                 0   \n",
       "155            0           0           0                 1                 0   \n",
       "671            0           0           0                 0                 0   \n",
       "1173           0           0           0                 1                 0   \n",
       "\n",
       "      region_southwest  \n",
       "966                  0  \n",
       "522                  0  \n",
       "155                  0  \n",
       "671                  0  \n",
       "1173                 0  "
      ]
     },
     "execution_count": 33,
     "metadata": {},
     "output_type": "execute_result"
    }
   ],
   "source": [
    "df_train.head()"
   ]
  },
  {
   "cell_type": "code",
   "execution_count": 34,
   "metadata": {
    "execution": {
     "iopub.execute_input": "2024-05-07T18:02:17.579735Z",
     "iopub.status.busy": "2024-05-07T18:02:17.578941Z",
     "iopub.status.idle": "2024-05-07T18:02:17.586574Z",
     "shell.execute_reply": "2024-05-07T18:02:17.585937Z",
     "shell.execute_reply.started": "2024-05-07T16:55:48.742199Z"
    },
    "papermill": {
     "duration": 0.136266,
     "end_time": "2024-05-07T18:02:17.586713",
     "exception": false,
     "start_time": "2024-05-07T18:02:17.450447",
     "status": "completed"
    },
    "tags": []
   },
   "outputs": [
    {
     "data": {
      "text/plain": [
       "Index(['age', 'bmi', 'charges', 'sex_male', 'children_1', 'children_2',\n",
       "       'children_3', 'children_4', 'children_5', 'smoker_yes',\n",
       "       'region_northwest', 'region_southeast', 'region_southwest'],\n",
       "      dtype='object')"
      ]
     },
     "execution_count": 34,
     "metadata": {},
     "output_type": "execute_result"
    }
   ],
   "source": [
    "df_train.columns"
   ]
  },
  {
   "cell_type": "code",
   "execution_count": 35,
   "metadata": {
    "execution": {
     "iopub.execute_input": "2024-05-07T18:02:17.853414Z",
     "iopub.status.busy": "2024-05-07T18:02:17.849070Z",
     "iopub.status.idle": "2024-05-07T18:02:17.858804Z",
     "shell.execute_reply": "2024-05-07T18:02:17.858110Z",
     "shell.execute_reply.started": "2024-05-07T16:55:48.753914Z"
    },
    "papermill": {
     "duration": 0.147716,
     "end_time": "2024-05-07T18:02:17.858957",
     "exception": false,
     "start_time": "2024-05-07T18:02:17.711241",
     "status": "completed"
    },
    "tags": []
   },
   "outputs": [],
   "source": [
    "# Apply scaler() to all the numeric variables\n",
    "\n",
    "num_vars = ['age', 'bmi', 'charges']\n",
    "\n",
    "df_train[num_vars] = scaler.fit_transform(df_train[num_vars])"
   ]
  },
  {
   "cell_type": "code",
   "execution_count": 36,
   "metadata": {
    "execution": {
     "iopub.execute_input": "2024-05-07T18:02:18.130182Z",
     "iopub.status.busy": "2024-05-07T18:02:18.129098Z",
     "iopub.status.idle": "2024-05-07T18:02:18.137204Z",
     "shell.execute_reply": "2024-05-07T18:02:18.136379Z",
     "shell.execute_reply.started": "2024-05-07T16:55:48.774137Z"
    },
    "papermill": {
     "duration": 0.155876,
     "end_time": "2024-05-07T18:02:18.137342",
     "exception": false,
     "start_time": "2024-05-07T18:02:17.981466",
     "status": "completed"
    },
    "tags": []
   },
   "outputs": [
    {
     "data": {
      "text/html": [
       "<div>\n",
       "<style scoped>\n",
       "    .dataframe tbody tr th:only-of-type {\n",
       "        vertical-align: middle;\n",
       "    }\n",
       "\n",
       "    .dataframe tbody tr th {\n",
       "        vertical-align: top;\n",
       "    }\n",
       "\n",
       "    .dataframe thead th {\n",
       "        text-align: right;\n",
       "    }\n",
       "</style>\n",
       "<table border=\"1\" class=\"dataframe\">\n",
       "  <thead>\n",
       "    <tr style=\"text-align: right;\">\n",
       "      <th></th>\n",
       "      <th>age</th>\n",
       "      <th>bmi</th>\n",
       "      <th>charges</th>\n",
       "      <th>sex_male</th>\n",
       "      <th>children_1</th>\n",
       "      <th>children_2</th>\n",
       "      <th>children_3</th>\n",
       "      <th>children_4</th>\n",
       "      <th>children_5</th>\n",
       "      <th>smoker_yes</th>\n",
       "      <th>region_northwest</th>\n",
       "      <th>region_southeast</th>\n",
       "      <th>region_southwest</th>\n",
       "    </tr>\n",
       "  </thead>\n",
       "  <tbody>\n",
       "    <tr>\n",
       "      <th>966</th>\n",
       "      <td>0.717391</td>\n",
       "      <td>0.237692</td>\n",
       "      <td>0.364661</td>\n",
       "      <td>1</td>\n",
       "      <td>0</td>\n",
       "      <td>1</td>\n",
       "      <td>0</td>\n",
       "      <td>0</td>\n",
       "      <td>0</td>\n",
       "      <td>1</td>\n",
       "      <td>1</td>\n",
       "      <td>0</td>\n",
       "      <td>0</td>\n",
       "    </tr>\n",
       "    <tr>\n",
       "      <th>522</th>\n",
       "      <td>0.717391</td>\n",
       "      <td>0.483051</td>\n",
       "      <td>0.139579</td>\n",
       "      <td>0</td>\n",
       "      <td>0</td>\n",
       "      <td>0</td>\n",
       "      <td>0</td>\n",
       "      <td>0</td>\n",
       "      <td>0</td>\n",
       "      <td>0</td>\n",
       "      <td>0</td>\n",
       "      <td>0</td>\n",
       "      <td>0</td>\n",
       "    </tr>\n",
       "    <tr>\n",
       "      <th>155</th>\n",
       "      <td>0.565217</td>\n",
       "      <td>0.633844</td>\n",
       "      <td>0.093008</td>\n",
       "      <td>1</td>\n",
       "      <td>0</td>\n",
       "      <td>0</td>\n",
       "      <td>0</td>\n",
       "      <td>0</td>\n",
       "      <td>0</td>\n",
       "      <td>0</td>\n",
       "      <td>1</td>\n",
       "      <td>0</td>\n",
       "      <td>0</td>\n",
       "    </tr>\n",
       "    <tr>\n",
       "      <th>671</th>\n",
       "      <td>0.239130</td>\n",
       "      <td>0.408932</td>\n",
       "      <td>0.045040</td>\n",
       "      <td>0</td>\n",
       "      <td>0</td>\n",
       "      <td>0</td>\n",
       "      <td>0</td>\n",
       "      <td>0</td>\n",
       "      <td>0</td>\n",
       "      <td>0</td>\n",
       "      <td>0</td>\n",
       "      <td>0</td>\n",
       "      <td>0</td>\n",
       "    </tr>\n",
       "    <tr>\n",
       "      <th>1173</th>\n",
       "      <td>0.434783</td>\n",
       "      <td>0.357815</td>\n",
       "      <td>0.085173</td>\n",
       "      <td>1</td>\n",
       "      <td>0</td>\n",
       "      <td>1</td>\n",
       "      <td>0</td>\n",
       "      <td>0</td>\n",
       "      <td>0</td>\n",
       "      <td>0</td>\n",
       "      <td>1</td>\n",
       "      <td>0</td>\n",
       "      <td>0</td>\n",
       "    </tr>\n",
       "  </tbody>\n",
       "</table>\n",
       "</div>"
      ],
      "text/plain": [
       "           age       bmi   charges  sex_male  children_1  children_2  \\\n",
       "966   0.717391  0.237692  0.364661         1           0           1   \n",
       "522   0.717391  0.483051  0.139579         0           0           0   \n",
       "155   0.565217  0.633844  0.093008         1           0           0   \n",
       "671   0.239130  0.408932  0.045040         0           0           0   \n",
       "1173  0.434783  0.357815  0.085173         1           0           1   \n",
       "\n",
       "      children_3  children_4  children_5  smoker_yes  region_northwest  \\\n",
       "966            0           0           0           1                 1   \n",
       "522            0           0           0           0                 0   \n",
       "155            0           0           0           0                 1   \n",
       "671            0           0           0           0                 0   \n",
       "1173           0           0           0           0                 1   \n",
       "\n",
       "      region_southeast  region_southwest  \n",
       "966                  0                 0  \n",
       "522                  0                 0  \n",
       "155                  0                 0  \n",
       "671                  0                 0  \n",
       "1173                 0                 0  "
      ]
     },
     "execution_count": 36,
     "metadata": {},
     "output_type": "execute_result"
    }
   ],
   "source": [
    "# Checking values after scaling\n",
    "df_train.head()"
   ]
  },
  {
   "cell_type": "code",
   "execution_count": 37,
   "metadata": {
    "execution": {
     "iopub.execute_input": "2024-05-07T18:02:18.409759Z",
     "iopub.status.busy": "2024-05-07T18:02:18.408036Z",
     "iopub.status.idle": "2024-05-07T18:02:18.476986Z",
     "shell.execute_reply": "2024-05-07T18:02:18.476277Z",
     "shell.execute_reply.started": "2024-05-07T16:55:48.804526Z"
    },
    "papermill": {
     "duration": 0.21014,
     "end_time": "2024-05-07T18:02:18.477160",
     "exception": false,
     "start_time": "2024-05-07T18:02:18.267020",
     "status": "completed"
    },
    "tags": []
   },
   "outputs": [
    {
     "data": {
      "text/html": [
       "<div>\n",
       "<style scoped>\n",
       "    .dataframe tbody tr th:only-of-type {\n",
       "        vertical-align: middle;\n",
       "    }\n",
       "\n",
       "    .dataframe tbody tr th {\n",
       "        vertical-align: top;\n",
       "    }\n",
       "\n",
       "    .dataframe thead th {\n",
       "        text-align: right;\n",
       "    }\n",
       "</style>\n",
       "<table border=\"1\" class=\"dataframe\">\n",
       "  <thead>\n",
       "    <tr style=\"text-align: right;\">\n",
       "      <th></th>\n",
       "      <th>age</th>\n",
       "      <th>bmi</th>\n",
       "      <th>charges</th>\n",
       "      <th>sex_male</th>\n",
       "      <th>children_1</th>\n",
       "      <th>children_2</th>\n",
       "      <th>children_3</th>\n",
       "      <th>children_4</th>\n",
       "      <th>children_5</th>\n",
       "      <th>smoker_yes</th>\n",
       "      <th>region_northwest</th>\n",
       "      <th>region_southeast</th>\n",
       "      <th>region_southwest</th>\n",
       "    </tr>\n",
       "  </thead>\n",
       "  <tbody>\n",
       "    <tr>\n",
       "      <th>count</th>\n",
       "      <td>936.000000</td>\n",
       "      <td>936.000000</td>\n",
       "      <td>936.000000</td>\n",
       "      <td>936.000000</td>\n",
       "      <td>936.000000</td>\n",
       "      <td>936.000000</td>\n",
       "      <td>936.000000</td>\n",
       "      <td>936.000000</td>\n",
       "      <td>936.000000</td>\n",
       "      <td>936.000000</td>\n",
       "      <td>936.000000</td>\n",
       "      <td>936.000000</td>\n",
       "      <td>936.000000</td>\n",
       "    </tr>\n",
       "    <tr>\n",
       "      <th>mean</th>\n",
       "      <td>0.458171</td>\n",
       "      <td>0.399088</td>\n",
       "      <td>0.192301</td>\n",
       "      <td>0.497863</td>\n",
       "      <td>0.236111</td>\n",
       "      <td>0.184829</td>\n",
       "      <td>0.117521</td>\n",
       "      <td>0.021368</td>\n",
       "      <td>0.011752</td>\n",
       "      <td>0.194444</td>\n",
       "      <td>0.244658</td>\n",
       "      <td>0.282051</td>\n",
       "      <td>0.242521</td>\n",
       "    </tr>\n",
       "    <tr>\n",
       "      <th>std</th>\n",
       "      <td>0.306065</td>\n",
       "      <td>0.167115</td>\n",
       "      <td>0.193690</td>\n",
       "      <td>0.500263</td>\n",
       "      <td>0.424918</td>\n",
       "      <td>0.388366</td>\n",
       "      <td>0.322213</td>\n",
       "      <td>0.144683</td>\n",
       "      <td>0.107826</td>\n",
       "      <td>0.395984</td>\n",
       "      <td>0.430114</td>\n",
       "      <td>0.450239</td>\n",
       "      <td>0.428837</td>\n",
       "    </tr>\n",
       "    <tr>\n",
       "      <th>min</th>\n",
       "      <td>0.000000</td>\n",
       "      <td>0.000000</td>\n",
       "      <td>0.000000</td>\n",
       "      <td>0.000000</td>\n",
       "      <td>0.000000</td>\n",
       "      <td>0.000000</td>\n",
       "      <td>0.000000</td>\n",
       "      <td>0.000000</td>\n",
       "      <td>0.000000</td>\n",
       "      <td>0.000000</td>\n",
       "      <td>0.000000</td>\n",
       "      <td>0.000000</td>\n",
       "      <td>0.000000</td>\n",
       "    </tr>\n",
       "    <tr>\n",
       "      <th>25%</th>\n",
       "      <td>0.173913</td>\n",
       "      <td>0.277441</td>\n",
       "      <td>0.055033</td>\n",
       "      <td>0.000000</td>\n",
       "      <td>0.000000</td>\n",
       "      <td>0.000000</td>\n",
       "      <td>0.000000</td>\n",
       "      <td>0.000000</td>\n",
       "      <td>0.000000</td>\n",
       "      <td>0.000000</td>\n",
       "      <td>0.000000</td>\n",
       "      <td>0.000000</td>\n",
       "      <td>0.000000</td>\n",
       "    </tr>\n",
       "    <tr>\n",
       "      <th>50%</th>\n",
       "      <td>0.456522</td>\n",
       "      <td>0.391176</td>\n",
       "      <td>0.129662</td>\n",
       "      <td>0.000000</td>\n",
       "      <td>0.000000</td>\n",
       "      <td>0.000000</td>\n",
       "      <td>0.000000</td>\n",
       "      <td>0.000000</td>\n",
       "      <td>0.000000</td>\n",
       "      <td>0.000000</td>\n",
       "      <td>0.000000</td>\n",
       "      <td>0.000000</td>\n",
       "      <td>0.000000</td>\n",
       "    </tr>\n",
       "    <tr>\n",
       "      <th>75%</th>\n",
       "      <td>0.717391</td>\n",
       "      <td>0.512039</td>\n",
       "      <td>0.245247</td>\n",
       "      <td>1.000000</td>\n",
       "      <td>0.000000</td>\n",
       "      <td>0.000000</td>\n",
       "      <td>0.000000</td>\n",
       "      <td>0.000000</td>\n",
       "      <td>0.000000</td>\n",
       "      <td>0.000000</td>\n",
       "      <td>0.000000</td>\n",
       "      <td>1.000000</td>\n",
       "      <td>0.000000</td>\n",
       "    </tr>\n",
       "    <tr>\n",
       "      <th>max</th>\n",
       "      <td>1.000000</td>\n",
       "      <td>1.000000</td>\n",
       "      <td>1.000000</td>\n",
       "      <td>1.000000</td>\n",
       "      <td>1.000000</td>\n",
       "      <td>1.000000</td>\n",
       "      <td>1.000000</td>\n",
       "      <td>1.000000</td>\n",
       "      <td>1.000000</td>\n",
       "      <td>1.000000</td>\n",
       "      <td>1.000000</td>\n",
       "      <td>1.000000</td>\n",
       "      <td>1.000000</td>\n",
       "    </tr>\n",
       "  </tbody>\n",
       "</table>\n",
       "</div>"
      ],
      "text/plain": [
       "              age         bmi     charges    sex_male  children_1  children_2  \\\n",
       "count  936.000000  936.000000  936.000000  936.000000  936.000000  936.000000   \n",
       "mean     0.458171    0.399088    0.192301    0.497863    0.236111    0.184829   \n",
       "std      0.306065    0.167115    0.193690    0.500263    0.424918    0.388366   \n",
       "min      0.000000    0.000000    0.000000    0.000000    0.000000    0.000000   \n",
       "25%      0.173913    0.277441    0.055033    0.000000    0.000000    0.000000   \n",
       "50%      0.456522    0.391176    0.129662    0.000000    0.000000    0.000000   \n",
       "75%      0.717391    0.512039    0.245247    1.000000    0.000000    0.000000   \n",
       "max      1.000000    1.000000    1.000000    1.000000    1.000000    1.000000   \n",
       "\n",
       "       children_3  children_4  children_5  smoker_yes  region_northwest  \\\n",
       "count  936.000000  936.000000  936.000000  936.000000        936.000000   \n",
       "mean     0.117521    0.021368    0.011752    0.194444          0.244658   \n",
       "std      0.322213    0.144683    0.107826    0.395984          0.430114   \n",
       "min      0.000000    0.000000    0.000000    0.000000          0.000000   \n",
       "25%      0.000000    0.000000    0.000000    0.000000          0.000000   \n",
       "50%      0.000000    0.000000    0.000000    0.000000          0.000000   \n",
       "75%      0.000000    0.000000    0.000000    0.000000          0.000000   \n",
       "max      1.000000    1.000000    1.000000    1.000000          1.000000   \n",
       "\n",
       "       region_southeast  region_southwest  \n",
       "count        936.000000        936.000000  \n",
       "mean           0.282051          0.242521  \n",
       "std            0.450239          0.428837  \n",
       "min            0.000000          0.000000  \n",
       "25%            0.000000          0.000000  \n",
       "50%            0.000000          0.000000  \n",
       "75%            1.000000          0.000000  \n",
       "max            1.000000          1.000000  "
      ]
     },
     "execution_count": 37,
     "metadata": {},
     "output_type": "execute_result"
    }
   ],
   "source": [
    "df_train.describe()"
   ]
  },
  {
   "cell_type": "markdown",
   "metadata": {
    "papermill": {
     "duration": 0.127094,
     "end_time": "2024-05-07T18:02:18.747797",
     "exception": false,
     "start_time": "2024-05-07T18:02:18.620703",
     "status": "completed"
    },
    "tags": []
   },
   "source": [
    "# BUILDING A LINEAR MODEL"
   ]
  },
  {
   "cell_type": "markdown",
   "metadata": {
    "papermill": {
     "duration": 0.123311,
     "end_time": "2024-05-07T18:02:18.996972",
     "exception": false,
     "start_time": "2024-05-07T18:02:18.873661",
     "status": "completed"
    },
    "tags": []
   },
   "source": [
    "## Dividing into X and Y sets for the model building"
   ]
  },
  {
   "cell_type": "code",
   "execution_count": 38,
   "metadata": {
    "execution": {
     "iopub.execute_input": "2024-05-07T18:02:19.271151Z",
     "iopub.status.busy": "2024-05-07T18:02:19.269717Z",
     "iopub.status.idle": "2024-05-07T18:02:19.276687Z",
     "shell.execute_reply": "2024-05-07T18:02:19.277803Z",
     "shell.execute_reply.started": "2024-05-07T16:55:48.876996Z"
    },
    "papermill": {
     "duration": 0.14772,
     "end_time": "2024-05-07T18:02:19.278129",
     "exception": false,
     "start_time": "2024-05-07T18:02:19.130409",
     "status": "completed"
    },
    "tags": []
   },
   "outputs": [],
   "source": [
    "y_train = df_train.pop('charges')\n",
    "X_train = df_train"
   ]
  },
  {
   "cell_type": "markdown",
   "metadata": {
    "papermill": {
     "duration": 0.122463,
     "end_time": "2024-05-07T18:02:19.540893",
     "exception": false,
     "start_time": "2024-05-07T18:02:19.418430",
     "status": "completed"
    },
    "tags": []
   },
   "source": [
    "### RFE\n",
    "Recursive feature elimination: We will be using the **LinearRegression function from SciKit Learn** for its compatibility with RFE (which is a utility from sklearn)"
   ]
  },
  {
   "cell_type": "code",
   "execution_count": 39,
   "metadata": {
    "execution": {
     "iopub.execute_input": "2024-05-07T18:02:19.796786Z",
     "iopub.status.busy": "2024-05-07T18:02:19.795973Z",
     "iopub.status.idle": "2024-05-07T18:02:20.033803Z",
     "shell.execute_reply": "2024-05-07T18:02:20.034403Z",
     "shell.execute_reply.started": "2024-05-07T16:55:48.887227Z"
    },
    "papermill": {
     "duration": 0.367963,
     "end_time": "2024-05-07T18:02:20.034593",
     "exception": false,
     "start_time": "2024-05-07T18:02:19.666630",
     "status": "completed"
    },
    "tags": []
   },
   "outputs": [],
   "source": [
    "#Importing RFE and LinearRegression\n",
    "from sklearn.feature_selection import RFE\n",
    "from sklearn.linear_model import LinearRegression"
   ]
  },
  {
   "cell_type": "code",
   "execution_count": 40,
   "metadata": {
    "execution": {
     "iopub.execute_input": "2024-05-07T18:02:20.296124Z",
     "iopub.status.busy": "2024-05-07T18:02:20.295324Z",
     "iopub.status.idle": "2024-05-07T18:02:20.355428Z",
     "shell.execute_reply": "2024-05-07T18:02:20.354641Z",
     "shell.execute_reply.started": "2024-05-07T16:55:49.069123Z"
    },
    "papermill": {
     "duration": 0.195388,
     "end_time": "2024-05-07T18:02:20.355572",
     "exception": false,
     "start_time": "2024-05-07T18:02:20.160184",
     "status": "completed"
    },
    "tags": []
   },
   "outputs": [],
   "source": [
    "# Running RFE with the output number of the variable equal to 6\n",
    "lm= LinearRegression()\n",
    "lm.fit(X_train,y_train)\n",
    "rfe= RFE(lm,6)\n",
    "rfe=rfe.fit(X_train,y_train)"
   ]
  },
  {
   "cell_type": "code",
   "execution_count": 41,
   "metadata": {
    "execution": {
     "iopub.execute_input": "2024-05-07T18:02:20.609269Z",
     "iopub.status.busy": "2024-05-07T18:02:20.608191Z",
     "iopub.status.idle": "2024-05-07T18:02:20.617582Z",
     "shell.execute_reply": "2024-05-07T18:02:20.618155Z",
     "shell.execute_reply.started": "2024-05-07T16:55:49.134967Z"
    },
    "papermill": {
     "duration": 0.137781,
     "end_time": "2024-05-07T18:02:20.618352",
     "exception": false,
     "start_time": "2024-05-07T18:02:20.480571",
     "status": "completed"
    },
    "tags": []
   },
   "outputs": [
    {
     "data": {
      "text/plain": [
       "[('age', True, 1),\n",
       " ('bmi', True, 1),\n",
       " ('sex_male', False, 7),\n",
       " ('children_1', False, 6),\n",
       " ('children_2', True, 1),\n",
       " ('children_3', False, 2),\n",
       " ('children_4', True, 1),\n",
       " ('children_5', True, 1),\n",
       " ('smoker_yes', True, 1),\n",
       " ('region_northwest', False, 5),\n",
       " ('region_southeast', False, 4),\n",
       " ('region_southwest', False, 3)]"
      ]
     },
     "execution_count": 41,
     "metadata": {},
     "output_type": "execute_result"
    }
   ],
   "source": [
    "list(zip(X_train.columns,rfe.support_,rfe.ranking_))"
   ]
  },
  {
   "cell_type": "code",
   "execution_count": 42,
   "metadata": {
    "execution": {
     "iopub.execute_input": "2024-05-07T18:02:20.871347Z",
     "iopub.status.busy": "2024-05-07T18:02:20.870183Z",
     "iopub.status.idle": "2024-05-07T18:02:20.877562Z",
     "shell.execute_reply": "2024-05-07T18:02:20.878132Z",
     "shell.execute_reply.started": "2024-05-07T16:55:49.151024Z"
    },
    "papermill": {
     "duration": 0.13578,
     "end_time": "2024-05-07T18:02:20.878325",
     "exception": false,
     "start_time": "2024-05-07T18:02:20.742545",
     "status": "completed"
    },
    "tags": []
   },
   "outputs": [
    {
     "data": {
      "text/plain": [
       "Index(['age', 'bmi', 'children_2', 'children_4', 'children_5', 'smoker_yes'], dtype='object')"
      ]
     },
     "execution_count": 42,
     "metadata": {},
     "output_type": "execute_result"
    }
   ],
   "source": [
    "col=X_train.columns[rfe.support_]\n",
    "col"
   ]
  },
  {
   "cell_type": "code",
   "execution_count": 43,
   "metadata": {
    "execution": {
     "iopub.execute_input": "2024-05-07T18:02:21.138318Z",
     "iopub.status.busy": "2024-05-07T18:02:21.137188Z",
     "iopub.status.idle": "2024-05-07T18:02:21.147351Z",
     "shell.execute_reply": "2024-05-07T18:02:21.146495Z",
     "shell.execute_reply.started": "2024-05-07T16:55:49.164874Z"
    },
    "papermill": {
     "duration": 0.138274,
     "end_time": "2024-05-07T18:02:21.147502",
     "exception": false,
     "start_time": "2024-05-07T18:02:21.009228",
     "status": "completed"
    },
    "tags": []
   },
   "outputs": [
    {
     "data": {
      "text/plain": [
       "Index(['sex_male', 'children_1', 'children_3', 'region_northwest',\n",
       "       'region_southeast', 'region_southwest'],\n",
       "      dtype='object')"
      ]
     },
     "execution_count": 43,
     "metadata": {},
     "output_type": "execute_result"
    }
   ],
   "source": [
    "X_train.columns[~rfe.support_]"
   ]
  },
  {
   "cell_type": "code",
   "execution_count": 44,
   "metadata": {
    "execution": {
     "iopub.execute_input": "2024-05-07T18:02:21.430327Z",
     "iopub.status.busy": "2024-05-07T18:02:21.429436Z",
     "iopub.status.idle": "2024-05-07T18:02:21.432830Z",
     "shell.execute_reply": "2024-05-07T18:02:21.433394Z",
     "shell.execute_reply.started": "2024-05-07T16:55:49.176198Z"
    },
    "papermill": {
     "duration": 0.136502,
     "end_time": "2024-05-07T18:02:21.433567",
     "exception": false,
     "start_time": "2024-05-07T18:02:21.297065",
     "status": "completed"
    },
    "tags": []
   },
   "outputs": [],
   "source": [
    "# Creating X_test dataframe with RFE selected variables\n",
    "X_train_rfe = X_train[col]\n"
   ]
  },
  {
   "cell_type": "markdown",
   "metadata": {
    "papermill": {
     "duration": 0.126222,
     "end_time": "2024-05-07T18:02:21.684407",
     "exception": false,
     "start_time": "2024-05-07T18:02:21.558185",
     "status": "completed"
    },
    "tags": []
   },
   "source": [
    "# Building Linear Model using 'STATS MODEL'"
   ]
  },
  {
   "cell_type": "markdown",
   "metadata": {
    "papermill": {
     "duration": 0.124484,
     "end_time": "2024-05-07T18:02:21.935138",
     "exception": false,
     "start_time": "2024-05-07T18:02:21.810654",
     "status": "completed"
    },
    "tags": []
   },
   "source": [
    "## Model 1"
   ]
  },
  {
   "cell_type": "markdown",
   "metadata": {
    "papermill": {
     "duration": 0.128157,
     "end_time": "2024-05-07T18:02:22.193439",
     "exception": false,
     "start_time": "2024-05-07T18:02:22.065282",
     "status": "completed"
    },
    "tags": []
   },
   "source": [
    "### VIF"
   ]
  },
  {
   "cell_type": "code",
   "execution_count": 45,
   "metadata": {
    "execution": {
     "iopub.execute_input": "2024-05-07T18:02:22.449421Z",
     "iopub.status.busy": "2024-05-07T18:02:22.448342Z",
     "iopub.status.idle": "2024-05-07T18:02:22.618008Z",
     "shell.execute_reply": "2024-05-07T18:02:22.617204Z",
     "shell.execute_reply.started": "2024-05-07T16:55:49.190165Z"
    },
    "papermill": {
     "duration": 0.297963,
     "end_time": "2024-05-07T18:02:22.618154",
     "exception": false,
     "start_time": "2024-05-07T18:02:22.320191",
     "status": "completed"
    },
    "tags": []
   },
   "outputs": [
    {
     "data": {
      "text/html": [
       "<div>\n",
       "<style scoped>\n",
       "    .dataframe tbody tr th:only-of-type {\n",
       "        vertical-align: middle;\n",
       "    }\n",
       "\n",
       "    .dataframe tbody tr th {\n",
       "        vertical-align: top;\n",
       "    }\n",
       "\n",
       "    .dataframe thead th {\n",
       "        text-align: right;\n",
       "    }\n",
       "</style>\n",
       "<table border=\"1\" class=\"dataframe\">\n",
       "  <thead>\n",
       "    <tr style=\"text-align: right;\">\n",
       "      <th></th>\n",
       "      <th>Features</th>\n",
       "      <th>VIF</th>\n",
       "    </tr>\n",
       "  </thead>\n",
       "  <tbody>\n",
       "    <tr>\n",
       "      <th>1</th>\n",
       "      <td>bmi</td>\n",
       "      <td>2.98</td>\n",
       "    </tr>\n",
       "    <tr>\n",
       "      <th>0</th>\n",
       "      <td>age</td>\n",
       "      <td>2.72</td>\n",
       "    </tr>\n",
       "    <tr>\n",
       "      <th>2</th>\n",
       "      <td>children_2</td>\n",
       "      <td>1.22</td>\n",
       "    </tr>\n",
       "    <tr>\n",
       "      <th>5</th>\n",
       "      <td>smoker_yes</td>\n",
       "      <td>1.21</td>\n",
       "    </tr>\n",
       "    <tr>\n",
       "      <th>3</th>\n",
       "      <td>children_4</td>\n",
       "      <td>1.03</td>\n",
       "    </tr>\n",
       "    <tr>\n",
       "      <th>4</th>\n",
       "      <td>children_5</td>\n",
       "      <td>1.01</td>\n",
       "    </tr>\n",
       "  </tbody>\n",
       "</table>\n",
       "</div>"
      ],
      "text/plain": [
       "     Features   VIF\n",
       "1         bmi  2.98\n",
       "0         age  2.72\n",
       "2  children_2  1.22\n",
       "5  smoker_yes  1.21\n",
       "3  children_4  1.03\n",
       "4  children_5  1.01"
      ]
     },
     "execution_count": 45,
     "metadata": {},
     "output_type": "execute_result"
    }
   ],
   "source": [
    "# Check for the VIF values of the feature variables. \n",
    "from statsmodels.stats.outliers_influence import variance_inflation_factor\n",
    "\n",
    "# Create a dataframe that will contain the names of all the feature variables and their respective VIFs\n",
    "vif = pd.DataFrame()\n",
    "vif['Features'] = X_train_rfe.columns\n",
    "vif['VIF'] = [variance_inflation_factor(X_train_rfe.values, i) for i in range(X_train_rfe.shape[1])]\n",
    "vif['VIF'] = round(vif['VIF'], 2)\n",
    "vif = vif.sort_values(by = \"VIF\", ascending = False)\n",
    "vif"
   ]
  },
  {
   "cell_type": "code",
   "execution_count": 46,
   "metadata": {
    "execution": {
     "iopub.execute_input": "2024-05-07T18:02:22.891134Z",
     "iopub.status.busy": "2024-05-07T18:02:22.890284Z",
     "iopub.status.idle": "2024-05-07T18:02:23.653439Z",
     "shell.execute_reply": "2024-05-07T18:02:23.654109Z",
     "shell.execute_reply.started": "2024-05-07T16:55:49.338585Z"
    },
    "papermill": {
     "duration": 0.904104,
     "end_time": "2024-05-07T18:02:23.654314",
     "exception": false,
     "start_time": "2024-05-07T18:02:22.750210",
     "status": "completed"
    },
    "tags": []
   },
   "outputs": [],
   "source": [
    "import statsmodels.api as sm\n",
    "\n",
    "# Add a constant\n",
    "X_train_lm1 = sm.add_constant(X_train_rfe)\n",
    "\n",
    "# Create a first fitted model\n",
    "lr1 = sm.OLS(y_train, X_train_lm1).fit()"
   ]
  },
  {
   "cell_type": "code",
   "execution_count": 47,
   "metadata": {
    "execution": {
     "iopub.execute_input": "2024-05-07T18:02:23.942951Z",
     "iopub.status.busy": "2024-05-07T18:02:23.941925Z",
     "iopub.status.idle": "2024-05-07T18:02:23.945613Z",
     "shell.execute_reply": "2024-05-07T18:02:23.946160Z",
     "shell.execute_reply.started": "2024-05-07T16:55:50.200253Z"
    },
    "papermill": {
     "duration": 0.153932,
     "end_time": "2024-05-07T18:02:23.946367",
     "exception": false,
     "start_time": "2024-05-07T18:02:23.792435",
     "status": "completed"
    },
    "tags": []
   },
   "outputs": [
    {
     "data": {
      "text/plain": [
       "const        -0.040999\n",
       "age           0.191584\n",
       "bmi           0.164643\n",
       "children_2    0.023215\n",
       "children_4    0.037126\n",
       "children_5    0.023905\n",
       "smoker_yes    0.382881\n",
       "dtype: float64"
      ]
     },
     "execution_count": 47,
     "metadata": {},
     "output_type": "execute_result"
    }
   ],
   "source": [
    "# Check the parameters obtained\n",
    "\n",
    "lr1.params"
   ]
  },
  {
   "cell_type": "code",
   "execution_count": 48,
   "metadata": {
    "execution": {
     "iopub.execute_input": "2024-05-07T18:02:24.242751Z",
     "iopub.status.busy": "2024-05-07T18:02:24.240849Z",
     "iopub.status.idle": "2024-05-07T18:02:24.260601Z",
     "shell.execute_reply": "2024-05-07T18:02:24.261174Z",
     "shell.execute_reply.started": "2024-05-07T16:55:50.214579Z"
    },
    "papermill": {
     "duration": 0.170922,
     "end_time": "2024-05-07T18:02:24.261370",
     "exception": false,
     "start_time": "2024-05-07T18:02:24.090448",
     "status": "completed"
    },
    "tags": []
   },
   "outputs": [
    {
     "name": "stdout",
     "output_type": "stream",
     "text": [
      "                            OLS Regression Results                            \n",
      "==============================================================================\n",
      "Dep. Variable:                charges   R-squared:                       0.737\n",
      "Model:                            OLS   Adj. R-squared:                  0.735\n",
      "Method:                 Least Squares   F-statistic:                     432.9\n",
      "Date:                Tue, 07 May 2024   Prob (F-statistic):          4.75e-265\n",
      "Time:                        18:02:24   Log-Likelihood:                 833.09\n",
      "No. Observations:                 936   AIC:                            -1652.\n",
      "Df Residuals:                     929   BIC:                            -1618.\n",
      "Df Model:                           6                                         \n",
      "Covariance Type:            nonrobust                                         \n",
      "==============================================================================\n",
      "                 coef    std err          t      P>|t|      [0.025      0.975]\n",
      "------------------------------------------------------------------------------\n",
      "const         -0.0410      0.010     -4.281      0.000      -0.060      -0.022\n",
      "age            0.1916      0.011     17.828      0.000       0.170       0.213\n",
      "bmi            0.1646      0.020      8.366      0.000       0.126       0.203\n",
      "children_2     0.0232      0.008      2.750      0.006       0.007       0.040\n",
      "children_4     0.0371      0.023      1.642      0.101      -0.007       0.081\n",
      "children_5     0.0239      0.030      0.787      0.431      -0.036       0.084\n",
      "smoker_yes     0.3829      0.008     46.383      0.000       0.367       0.399\n",
      "==============================================================================\n",
      "Omnibus:                      215.324   Durbin-Watson:                   2.026\n",
      "Prob(Omnibus):                  0.000   Jarque-Bera (JB):              495.481\n",
      "Skew:                           1.240   Prob(JB):                    2.56e-108\n",
      "Kurtosis:                       5.560   Cond. No.                         11.3\n",
      "==============================================================================\n",
      "\n",
      "Warnings:\n",
      "[1] Standard Errors assume that the covariance matrix of the errors is correctly specified.\n"
     ]
    }
   ],
   "source": [
    "# Print a summary of the linear regression model obtained\n",
    "print(lr1.summary())"
   ]
  },
  {
   "cell_type": "markdown",
   "metadata": {
    "papermill": {
     "duration": 0.125989,
     "end_time": "2024-05-07T18:02:24.514245",
     "exception": false,
     "start_time": "2024-05-07T18:02:24.388256",
     "status": "completed"
    },
    "tags": []
   },
   "source": [
    "## Model 2\n",
    "- Removing the variable 'children_5' based on its High p-value "
   ]
  },
  {
   "cell_type": "code",
   "execution_count": 49,
   "metadata": {
    "execution": {
     "iopub.execute_input": "2024-05-07T18:02:24.785496Z",
     "iopub.status.busy": "2024-05-07T18:02:24.784704Z",
     "iopub.status.idle": "2024-05-07T18:02:24.789463Z",
     "shell.execute_reply": "2024-05-07T18:02:24.788674Z",
     "shell.execute_reply.started": "2024-05-07T16:55:50.241612Z"
    },
    "papermill": {
     "duration": 0.141915,
     "end_time": "2024-05-07T18:02:24.789651",
     "exception": false,
     "start_time": "2024-05-07T18:02:24.647736",
     "status": "completed"
    },
    "tags": []
   },
   "outputs": [],
   "source": [
    "X_train_new = X_train_rfe.drop([\"children_5\"], axis = 1)"
   ]
  },
  {
   "cell_type": "markdown",
   "metadata": {
    "papermill": {
     "duration": 0.133277,
     "end_time": "2024-05-07T18:02:25.050185",
     "exception": false,
     "start_time": "2024-05-07T18:02:24.916908",
     "status": "completed"
    },
    "tags": []
   },
   "source": [
    "### VIF"
   ]
  },
  {
   "cell_type": "code",
   "execution_count": 50,
   "metadata": {
    "execution": {
     "iopub.execute_input": "2024-05-07T18:02:25.322769Z",
     "iopub.status.busy": "2024-05-07T18:02:25.321667Z",
     "iopub.status.idle": "2024-05-07T18:02:25.346846Z",
     "shell.execute_reply": "2024-05-07T18:02:25.345943Z",
     "shell.execute_reply.started": "2024-05-07T16:55:50.251636Z"
    },
    "papermill": {
     "duration": 0.16864,
     "end_time": "2024-05-07T18:02:25.347065",
     "exception": false,
     "start_time": "2024-05-07T18:02:25.178425",
     "status": "completed"
    },
    "tags": []
   },
   "outputs": [
    {
     "data": {
      "text/html": [
       "<div>\n",
       "<style scoped>\n",
       "    .dataframe tbody tr th:only-of-type {\n",
       "        vertical-align: middle;\n",
       "    }\n",
       "\n",
       "    .dataframe tbody tr th {\n",
       "        vertical-align: top;\n",
       "    }\n",
       "\n",
       "    .dataframe thead th {\n",
       "        text-align: right;\n",
       "    }\n",
       "</style>\n",
       "<table border=\"1\" class=\"dataframe\">\n",
       "  <thead>\n",
       "    <tr style=\"text-align: right;\">\n",
       "      <th></th>\n",
       "      <th>Features</th>\n",
       "      <th>VIF</th>\n",
       "    </tr>\n",
       "  </thead>\n",
       "  <tbody>\n",
       "    <tr>\n",
       "      <th>1</th>\n",
       "      <td>bmi</td>\n",
       "      <td>2.96</td>\n",
       "    </tr>\n",
       "    <tr>\n",
       "      <th>0</th>\n",
       "      <td>age</td>\n",
       "      <td>2.72</td>\n",
       "    </tr>\n",
       "    <tr>\n",
       "      <th>2</th>\n",
       "      <td>children_2</td>\n",
       "      <td>1.22</td>\n",
       "    </tr>\n",
       "    <tr>\n",
       "      <th>4</th>\n",
       "      <td>smoker_yes</td>\n",
       "      <td>1.21</td>\n",
       "    </tr>\n",
       "    <tr>\n",
       "      <th>3</th>\n",
       "      <td>children_4</td>\n",
       "      <td>1.03</td>\n",
       "    </tr>\n",
       "  </tbody>\n",
       "</table>\n",
       "</div>"
      ],
      "text/plain": [
       "     Features   VIF\n",
       "1         bmi  2.96\n",
       "0         age  2.72\n",
       "2  children_2  1.22\n",
       "4  smoker_yes  1.21\n",
       "3  children_4  1.03"
      ]
     },
     "execution_count": 50,
     "metadata": {},
     "output_type": "execute_result"
    }
   ],
   "source": [
    "# Check for the VIF values of the feature variables. \n",
    "from statsmodels.stats.outliers_influence import variance_inflation_factor\n",
    "\n",
    "# Create a dataframe that will contain the names of all the feature variables and their respective VIFs\n",
    "vif = pd.DataFrame()\n",
    "vif['Features'] = X_train_new.columns\n",
    "vif['VIF'] = [variance_inflation_factor(X_train_new.values, i) for i in range(X_train_new.shape[1])]\n",
    "vif['VIF'] = round(vif['VIF'], 2)\n",
    "vif = vif.sort_values(by = \"VIF\", ascending = False)\n",
    "vif\n"
   ]
  },
  {
   "cell_type": "code",
   "execution_count": 51,
   "metadata": {
    "execution": {
     "iopub.execute_input": "2024-05-07T18:02:25.629199Z",
     "iopub.status.busy": "2024-05-07T18:02:25.628298Z",
     "iopub.status.idle": "2024-05-07T18:02:25.636942Z",
     "shell.execute_reply": "2024-05-07T18:02:25.636012Z",
     "shell.execute_reply.started": "2024-05-07T16:55:50.287306Z"
    },
    "papermill": {
     "duration": 0.152618,
     "end_time": "2024-05-07T18:02:25.637120",
     "exception": false,
     "start_time": "2024-05-07T18:02:25.484502",
     "status": "completed"
    },
    "tags": []
   },
   "outputs": [],
   "source": [
    "# Add a constant\n",
    "X_train_lm2 = sm.add_constant(X_train_new)\n",
    "\n",
    "# Create a first fitted model\n",
    "lr2 = sm.OLS(y_train, X_train_lm2).fit()"
   ]
  },
  {
   "cell_type": "code",
   "execution_count": 52,
   "metadata": {
    "execution": {
     "iopub.execute_input": "2024-05-07T18:02:25.924534Z",
     "iopub.status.busy": "2024-05-07T18:02:25.923128Z",
     "iopub.status.idle": "2024-05-07T18:02:25.929017Z",
     "shell.execute_reply": "2024-05-07T18:02:25.928150Z",
     "shell.execute_reply.started": "2024-05-07T16:55:50.306057Z"
    },
    "papermill": {
     "duration": 0.150966,
     "end_time": "2024-05-07T18:02:25.929183",
     "exception": false,
     "start_time": "2024-05-07T18:02:25.778217",
     "status": "completed"
    },
    "tags": []
   },
   "outputs": [
    {
     "data": {
      "text/plain": [
       "const        -0.040320\n",
       "age           0.191246\n",
       "bmi           0.164374\n",
       "children_2    0.022882\n",
       "children_4    0.036765\n",
       "smoker_yes    0.382538\n",
       "dtype: float64"
      ]
     },
     "execution_count": 52,
     "metadata": {},
     "output_type": "execute_result"
    }
   ],
   "source": [
    "# Check the parameters obtained\n",
    "\n",
    "lr2.params"
   ]
  },
  {
   "cell_type": "code",
   "execution_count": 53,
   "metadata": {
    "execution": {
     "iopub.execute_input": "2024-05-07T18:02:26.228009Z",
     "iopub.status.busy": "2024-05-07T18:02:26.226761Z",
     "iopub.status.idle": "2024-05-07T18:02:26.244193Z",
     "shell.execute_reply": "2024-05-07T18:02:26.245626Z",
     "shell.execute_reply.started": "2024-05-07T16:55:50.320788Z"
    },
    "papermill": {
     "duration": 0.168951,
     "end_time": "2024-05-07T18:02:26.246172",
     "exception": false,
     "start_time": "2024-05-07T18:02:26.077221",
     "status": "completed"
    },
    "tags": []
   },
   "outputs": [
    {
     "name": "stdout",
     "output_type": "stream",
     "text": [
      "                            OLS Regression Results                            \n",
      "==============================================================================\n",
      "Dep. Variable:                charges   R-squared:                       0.736\n",
      "Model:                            OLS   Adj. R-squared:                  0.735\n",
      "Method:                 Least Squares   F-statistic:                     519.6\n",
      "Date:                Tue, 07 May 2024   Prob (F-statistic):          2.70e-266\n",
      "Time:                        18:02:26   Log-Likelihood:                 832.78\n",
      "No. Observations:                 936   AIC:                            -1654.\n",
      "Df Residuals:                     930   BIC:                            -1625.\n",
      "Df Model:                           5                                         \n",
      "Covariance Type:            nonrobust                                         \n",
      "==============================================================================\n",
      "                 coef    std err          t      P>|t|      [0.025      0.975]\n",
      "------------------------------------------------------------------------------\n",
      "const         -0.0403      0.010     -4.228      0.000      -0.059      -0.022\n",
      "age            0.1912      0.011     17.814      0.000       0.170       0.212\n",
      "bmi            0.1644      0.020      8.355      0.000       0.126       0.203\n",
      "children_2     0.0229      0.008      2.715      0.007       0.006       0.039\n",
      "children_4     0.0368      0.023      1.627      0.104      -0.008       0.081\n",
      "smoker_yes     0.3825      0.008     46.415      0.000       0.366       0.399\n",
      "==============================================================================\n",
      "Omnibus:                      213.899   Durbin-Watson:                   2.023\n",
      "Prob(Omnibus):                  0.000   Jarque-Bera (JB):              489.250\n",
      "Skew:                           1.235   Prob(JB):                    5.76e-107\n",
      "Kurtosis:                       5.539   Cond. No.                         8.42\n",
      "==============================================================================\n",
      "\n",
      "Warnings:\n",
      "[1] Standard Errors assume that the covariance matrix of the errors is correctly specified.\n"
     ]
    }
   ],
   "source": [
    "# Print a summary of the linear regression model obtained\n",
    "print(lr2.summary())"
   ]
  },
  {
   "cell_type": "markdown",
   "metadata": {
    "papermill": {
     "duration": 0.138746,
     "end_time": "2024-05-07T18:02:26.527947",
     "exception": false,
     "start_time": "2024-05-07T18:02:26.389201",
     "status": "completed"
    },
    "tags": []
   },
   "source": [
    "## Model 3\n",
    "\n",
    "- Removing the variable 'children_4' based on its High p-value"
   ]
  },
  {
   "cell_type": "code",
   "execution_count": 54,
   "metadata": {
    "execution": {
     "iopub.execute_input": "2024-05-07T18:02:26.816084Z",
     "iopub.status.busy": "2024-05-07T18:02:26.814775Z",
     "iopub.status.idle": "2024-05-07T18:02:26.818442Z",
     "shell.execute_reply": "2024-05-07T18:02:26.819012Z",
     "shell.execute_reply.started": "2024-05-07T16:55:50.348585Z"
    },
    "papermill": {
     "duration": 0.149914,
     "end_time": "2024-05-07T18:02:26.819218",
     "exception": false,
     "start_time": "2024-05-07T18:02:26.669304",
     "status": "completed"
    },
    "tags": []
   },
   "outputs": [],
   "source": [
    "X_train_new = X_train_new.drop([\"children_4\"], axis = 1)"
   ]
  },
  {
   "cell_type": "markdown",
   "metadata": {
    "papermill": {
     "duration": 0.133799,
     "end_time": "2024-05-07T18:02:27.084390",
     "exception": false,
     "start_time": "2024-05-07T18:02:26.950591",
     "status": "completed"
    },
    "tags": []
   },
   "source": [
    "### VIF"
   ]
  },
  {
   "cell_type": "code",
   "execution_count": 55,
   "metadata": {
    "execution": {
     "iopub.execute_input": "2024-05-07T18:02:27.352372Z",
     "iopub.status.busy": "2024-05-07T18:02:27.351563Z",
     "iopub.status.idle": "2024-05-07T18:02:27.382093Z",
     "shell.execute_reply": "2024-05-07T18:02:27.381390Z",
     "shell.execute_reply.started": "2024-05-07T16:55:50.360721Z"
    },
    "papermill": {
     "duration": 0.168068,
     "end_time": "2024-05-07T18:02:27.382246",
     "exception": false,
     "start_time": "2024-05-07T18:02:27.214178",
     "status": "completed"
    },
    "tags": []
   },
   "outputs": [
    {
     "data": {
      "text/html": [
       "<div>\n",
       "<style scoped>\n",
       "    .dataframe tbody tr th:only-of-type {\n",
       "        vertical-align: middle;\n",
       "    }\n",
       "\n",
       "    .dataframe tbody tr th {\n",
       "        vertical-align: top;\n",
       "    }\n",
       "\n",
       "    .dataframe thead th {\n",
       "        text-align: right;\n",
       "    }\n",
       "</style>\n",
       "<table border=\"1\" class=\"dataframe\">\n",
       "  <thead>\n",
       "    <tr style=\"text-align: right;\">\n",
       "      <th></th>\n",
       "      <th>Features</th>\n",
       "      <th>VIF</th>\n",
       "    </tr>\n",
       "  </thead>\n",
       "  <tbody>\n",
       "    <tr>\n",
       "      <th>1</th>\n",
       "      <td>bmi</td>\n",
       "      <td>2.94</td>\n",
       "    </tr>\n",
       "    <tr>\n",
       "      <th>0</th>\n",
       "      <td>age</td>\n",
       "      <td>2.72</td>\n",
       "    </tr>\n",
       "    <tr>\n",
       "      <th>2</th>\n",
       "      <td>children_2</td>\n",
       "      <td>1.21</td>\n",
       "    </tr>\n",
       "    <tr>\n",
       "      <th>3</th>\n",
       "      <td>smoker_yes</td>\n",
       "      <td>1.21</td>\n",
       "    </tr>\n",
       "  </tbody>\n",
       "</table>\n",
       "</div>"
      ],
      "text/plain": [
       "     Features   VIF\n",
       "1         bmi  2.94\n",
       "0         age  2.72\n",
       "2  children_2  1.21\n",
       "3  smoker_yes  1.21"
      ]
     },
     "execution_count": 55,
     "metadata": {},
     "output_type": "execute_result"
    }
   ],
   "source": [
    "# Check for the VIF values of the feature variables. \n",
    "from statsmodels.stats.outliers_influence import variance_inflation_factor\n",
    "\n",
    "# Create a dataframe that will contain the names of all the feature variables and their respective VIFs\n",
    "vif = pd.DataFrame()\n",
    "vif['Features'] = X_train_new.columns\n",
    "vif['VIF'] = [variance_inflation_factor(X_train_new.values, i) for i in range(X_train_new.shape[1])]\n",
    "vif['VIF'] = round(vif['VIF'], 2)\n",
    "vif = vif.sort_values(by = \"VIF\", ascending = False)\n",
    "vif"
   ]
  },
  {
   "cell_type": "code",
   "execution_count": 56,
   "metadata": {
    "execution": {
     "iopub.execute_input": "2024-05-07T18:02:27.651837Z",
     "iopub.status.busy": "2024-05-07T18:02:27.650518Z",
     "iopub.status.idle": "2024-05-07T18:02:27.656405Z",
     "shell.execute_reply": "2024-05-07T18:02:27.657069Z",
     "shell.execute_reply.started": "2024-05-07T16:55:50.394730Z"
    },
    "papermill": {
     "duration": 0.14567,
     "end_time": "2024-05-07T18:02:27.657265",
     "exception": false,
     "start_time": "2024-05-07T18:02:27.511595",
     "status": "completed"
    },
    "tags": []
   },
   "outputs": [],
   "source": [
    "# Add a constant\n",
    "X_train_lm3 = sm.add_constant(X_train_new)\n",
    "\n",
    "# Create a first fitted model\n",
    "lr3 = sm.OLS(y_train, X_train_lm3).fit()"
   ]
  },
  {
   "cell_type": "code",
   "execution_count": 57,
   "metadata": {
    "execution": {
     "iopub.execute_input": "2024-05-07T18:02:27.933889Z",
     "iopub.status.busy": "2024-05-07T18:02:27.932992Z",
     "iopub.status.idle": "2024-05-07T18:02:27.942438Z",
     "shell.execute_reply": "2024-05-07T18:02:27.943041Z",
     "shell.execute_reply.started": "2024-05-07T16:55:50.412640Z"
    },
    "papermill": {
     "duration": 0.151512,
     "end_time": "2024-05-07T18:02:27.943254",
     "exception": false,
     "start_time": "2024-05-07T18:02:27.791742",
     "status": "completed"
    },
    "tags": []
   },
   "outputs": [
    {
     "data": {
      "text/plain": [
       "const        -0.039554\n",
       "age           0.191229\n",
       "bmi           0.164988\n",
       "children_2    0.021915\n",
       "smoker_yes    0.382340\n",
       "dtype: float64"
      ]
     },
     "execution_count": 57,
     "metadata": {},
     "output_type": "execute_result"
    }
   ],
   "source": [
    "# Check the parameters obtained\n",
    "\n",
    "lr3.params"
   ]
  },
  {
   "cell_type": "code",
   "execution_count": 58,
   "metadata": {
    "execution": {
     "iopub.execute_input": "2024-05-07T18:02:28.240303Z",
     "iopub.status.busy": "2024-05-07T18:02:28.239142Z",
     "iopub.status.idle": "2024-05-07T18:02:28.262616Z",
     "shell.execute_reply": "2024-05-07T18:02:28.261785Z",
     "shell.execute_reply.started": "2024-05-07T16:55:50.429452Z"
    },
    "papermill": {
     "duration": 0.169464,
     "end_time": "2024-05-07T18:02:28.262787",
     "exception": false,
     "start_time": "2024-05-07T18:02:28.093323",
     "status": "completed"
    },
    "tags": []
   },
   "outputs": [
    {
     "name": "stdout",
     "output_type": "stream",
     "text": [
      "                            OLS Regression Results                            \n",
      "==============================================================================\n",
      "Dep. Variable:                charges   R-squared:                       0.736\n",
      "Model:                            OLS   Adj. R-squared:                  0.734\n",
      "Method:                 Least Squares   F-statistic:                     647.7\n",
      "Date:                Tue, 07 May 2024   Prob (F-statistic):          3.73e-267\n",
      "Time:                        18:02:28   Log-Likelihood:                 831.45\n",
      "No. Observations:                 936   AIC:                            -1653.\n",
      "Df Residuals:                     931   BIC:                            -1629.\n",
      "Df Model:                           4                                         \n",
      "Covariance Type:            nonrobust                                         \n",
      "==============================================================================\n",
      "                 coef    std err          t      P>|t|      [0.025      0.975]\n",
      "------------------------------------------------------------------------------\n",
      "const         -0.0396      0.010     -4.149      0.000      -0.058      -0.021\n",
      "age            0.1912      0.011     17.797      0.000       0.170       0.212\n",
      "bmi            0.1650      0.020      8.380      0.000       0.126       0.204\n",
      "children_2     0.0219      0.008      2.604      0.009       0.005       0.038\n",
      "smoker_yes     0.3823      0.008     46.355      0.000       0.366       0.399\n",
      "==============================================================================\n",
      "Omnibus:                      214.191   Durbin-Watson:                   2.026\n",
      "Prob(Omnibus):                  0.000   Jarque-Bera (JB):              489.031\n",
      "Skew:                           1.237   Prob(JB):                    6.43e-107\n",
      "Kurtosis:                       5.533   Cond. No.                         7.83\n",
      "==============================================================================\n",
      "\n",
      "Warnings:\n",
      "[1] Standard Errors assume that the covariance matrix of the errors is correctly specified.\n"
     ]
    }
   ],
   "source": [
    "# Print a summary of the linear regression model obtained\n",
    "print(lr3.summary())"
   ]
  },
  {
   "cell_type": "markdown",
   "metadata": {
    "papermill": {
     "duration": 0.141928,
     "end_time": "2024-05-07T18:02:28.543074",
     "exception": false,
     "start_time": "2024-05-07T18:02:28.401146",
     "status": "completed"
    },
    "tags": []
   },
   "source": [
    "## Model 4\n",
    "- Removing the variable 'children_2' based on its High p-value"
   ]
  },
  {
   "cell_type": "code",
   "execution_count": 59,
   "metadata": {
    "execution": {
     "iopub.execute_input": "2024-05-07T18:02:28.833970Z",
     "iopub.status.busy": "2024-05-07T18:02:28.833061Z",
     "iopub.status.idle": "2024-05-07T18:02:28.835834Z",
     "shell.execute_reply": "2024-05-07T18:02:28.836466Z",
     "shell.execute_reply.started": "2024-05-07T16:55:50.464167Z"
    },
    "papermill": {
     "duration": 0.154477,
     "end_time": "2024-05-07T18:02:28.836704",
     "exception": false,
     "start_time": "2024-05-07T18:02:28.682227",
     "status": "completed"
    },
    "tags": []
   },
   "outputs": [],
   "source": [
    "X_train_new = X_train_new.drop([\"children_2\"], axis = 1)"
   ]
  },
  {
   "cell_type": "markdown",
   "metadata": {
    "papermill": {
     "duration": 0.13831,
     "end_time": "2024-05-07T18:02:29.106191",
     "exception": false,
     "start_time": "2024-05-07T18:02:28.967881",
     "status": "completed"
    },
    "tags": []
   },
   "source": [
    "### VIF"
   ]
  },
  {
   "cell_type": "code",
   "execution_count": 60,
   "metadata": {
    "execution": {
     "iopub.execute_input": "2024-05-07T18:02:29.394340Z",
     "iopub.status.busy": "2024-05-07T18:02:29.393255Z",
     "iopub.status.idle": "2024-05-07T18:02:29.416309Z",
     "shell.execute_reply": "2024-05-07T18:02:29.416932Z",
     "shell.execute_reply.started": "2024-05-07T16:55:50.474960Z"
    },
    "papermill": {
     "duration": 0.176256,
     "end_time": "2024-05-07T18:02:29.417099",
     "exception": false,
     "start_time": "2024-05-07T18:02:29.240843",
     "status": "completed"
    },
    "tags": []
   },
   "outputs": [
    {
     "data": {
      "text/html": [
       "<div>\n",
       "<style scoped>\n",
       "    .dataframe tbody tr th:only-of-type {\n",
       "        vertical-align: middle;\n",
       "    }\n",
       "\n",
       "    .dataframe tbody tr th {\n",
       "        vertical-align: top;\n",
       "    }\n",
       "\n",
       "    .dataframe thead th {\n",
       "        text-align: right;\n",
       "    }\n",
       "</style>\n",
       "<table border=\"1\" class=\"dataframe\">\n",
       "  <thead>\n",
       "    <tr style=\"text-align: right;\">\n",
       "      <th></th>\n",
       "      <th>Features</th>\n",
       "      <th>VIF</th>\n",
       "    </tr>\n",
       "  </thead>\n",
       "  <tbody>\n",
       "    <tr>\n",
       "      <th>1</th>\n",
       "      <td>bmi</td>\n",
       "      <td>2.83</td>\n",
       "    </tr>\n",
       "    <tr>\n",
       "      <th>0</th>\n",
       "      <td>age</td>\n",
       "      <td>2.70</td>\n",
       "    </tr>\n",
       "    <tr>\n",
       "      <th>2</th>\n",
       "      <td>smoker_yes</td>\n",
       "      <td>1.21</td>\n",
       "    </tr>\n",
       "  </tbody>\n",
       "</table>\n",
       "</div>"
      ],
      "text/plain": [
       "     Features   VIF\n",
       "1         bmi  2.83\n",
       "0         age  2.70\n",
       "2  smoker_yes  1.21"
      ]
     },
     "execution_count": 60,
     "metadata": {},
     "output_type": "execute_result"
    }
   ],
   "source": [
    "# Check for the VIF values of the feature variables. \n",
    "from statsmodels.stats.outliers_influence import variance_inflation_factor\n",
    "\n",
    "# Create a dataframe that will contain the names of all the feature variables and their respective VIFs\n",
    "vif = pd.DataFrame()\n",
    "vif['Features'] = X_train_new.columns\n",
    "vif['VIF'] = [variance_inflation_factor(X_train_new.values, i) for i in range(X_train_new.shape[1])]\n",
    "vif['VIF'] = round(vif['VIF'], 2)\n",
    "vif = vif.sort_values(by = \"VIF\", ascending = False)\n",
    "vif"
   ]
  },
  {
   "cell_type": "code",
   "execution_count": 61,
   "metadata": {
    "execution": {
     "iopub.execute_input": "2024-05-07T18:02:29.696382Z",
     "iopub.status.busy": "2024-05-07T18:02:29.695136Z",
     "iopub.status.idle": "2024-05-07T18:02:29.702038Z",
     "shell.execute_reply": "2024-05-07T18:02:29.702623Z",
     "shell.execute_reply.started": "2024-05-07T16:55:50.508979Z"
    },
    "papermill": {
     "duration": 0.152437,
     "end_time": "2024-05-07T18:02:29.702816",
     "exception": false,
     "start_time": "2024-05-07T18:02:29.550379",
     "status": "completed"
    },
    "tags": []
   },
   "outputs": [],
   "source": [
    "# Add a constant\n",
    "X_train_lm4 = sm.add_constant(X_train_new)\n",
    "\n",
    "# Create a first fitted model\n",
    "lr4 = sm.OLS(y_train, X_train_lm4).fit()"
   ]
  },
  {
   "cell_type": "code",
   "execution_count": 62,
   "metadata": {
    "execution": {
     "iopub.execute_input": "2024-05-07T18:02:29.970717Z",
     "iopub.status.busy": "2024-05-07T18:02:29.969578Z",
     "iopub.status.idle": "2024-05-07T18:02:29.977599Z",
     "shell.execute_reply": "2024-05-07T18:02:29.978162Z",
     "shell.execute_reply.started": "2024-05-07T16:55:50.525930Z"
    },
    "papermill": {
     "duration": 0.143124,
     "end_time": "2024-05-07T18:02:29.978351",
     "exception": false,
     "start_time": "2024-05-07T18:02:29.835227",
     "status": "completed"
    },
    "tags": []
   },
   "outputs": [
    {
     "data": {
      "text/plain": [
       "const        -0.036612\n",
       "age           0.191829\n",
       "bmi           0.166761\n",
       "smoker_yes    0.382986\n",
       "dtype: float64"
      ]
     },
     "execution_count": 62,
     "metadata": {},
     "output_type": "execute_result"
    }
   ],
   "source": [
    "# Check the parameters obtained\n",
    "\n",
    "lr4.params"
   ]
  },
  {
   "cell_type": "code",
   "execution_count": 63,
   "metadata": {
    "execution": {
     "iopub.execute_input": "2024-05-07T18:02:30.249944Z",
     "iopub.status.busy": "2024-05-07T18:02:30.248758Z",
     "iopub.status.idle": "2024-05-07T18:02:30.266038Z",
     "shell.execute_reply": "2024-05-07T18:02:30.266923Z",
     "shell.execute_reply.started": "2024-05-07T16:55:50.543371Z"
    },
    "papermill": {
     "duration": 0.153034,
     "end_time": "2024-05-07T18:02:30.267105",
     "exception": false,
     "start_time": "2024-05-07T18:02:30.114071",
     "status": "completed"
    },
    "tags": []
   },
   "outputs": [
    {
     "name": "stdout",
     "output_type": "stream",
     "text": [
      "                            OLS Regression Results                            \n",
      "==============================================================================\n",
      "Dep. Variable:                charges   R-squared:                       0.734\n",
      "Model:                            OLS   Adj. R-squared:                  0.733\n",
      "Method:                 Least Squares   F-statistic:                     856.0\n",
      "Date:                Tue, 07 May 2024   Prob (F-statistic):          3.43e-267\n",
      "Time:                        18:02:30   Log-Likelihood:                 828.06\n",
      "No. Observations:                 936   AIC:                            -1648.\n",
      "Df Residuals:                     932   BIC:                            -1629.\n",
      "Df Model:                           3                                         \n",
      "Covariance Type:            nonrobust                                         \n",
      "==============================================================================\n",
      "                 coef    std err          t      P>|t|      [0.025      0.975]\n",
      "------------------------------------------------------------------------------\n",
      "const         -0.0366      0.009     -3.856      0.000      -0.055      -0.018\n",
      "age            0.1918      0.011     17.802      0.000       0.171       0.213\n",
      "bmi            0.1668      0.020      8.449      0.000       0.128       0.205\n",
      "smoker_yes     0.3830      0.008     46.311      0.000       0.367       0.399\n",
      "==============================================================================\n",
      "Omnibus:                      217.990   Durbin-Watson:                   2.021\n",
      "Prob(Omnibus):                  0.000   Jarque-Bera (JB):              503.204\n",
      "Skew:                           1.254   Prob(JB):                    5.38e-110\n",
      "Kurtosis:                       5.572   Cond. No.                         7.73\n",
      "==============================================================================\n",
      "\n",
      "Warnings:\n",
      "[1] Standard Errors assume that the covariance matrix of the errors is correctly specified.\n"
     ]
    }
   ],
   "source": [
    "# Print a summary of the linear regression model obtained\n",
    "print(lr4.summary())"
   ]
  },
  {
   "cell_type": "markdown",
   "metadata": {
    "papermill": {
     "duration": 0.133016,
     "end_time": "2024-05-07T18:02:30.533391",
     "exception": false,
     "start_time": "2024-05-07T18:02:30.400375",
     "status": "completed"
    },
    "tags": []
   },
   "source": [
    "### Insights\n",
    "- This model looks good, as there seems to be VERY LOW Multicollinearity between the predictors and the p-values for all the predictors seems to be significant. For now, we will consider this as our final model (unless the Test data metrics are not significantly close to this number)."
   ]
  },
  {
   "cell_type": "markdown",
   "metadata": {
    "papermill": {
     "duration": 0.135137,
     "end_time": "2024-05-07T18:02:30.801791",
     "exception": false,
     "start_time": "2024-05-07T18:02:30.666654",
     "status": "completed"
    },
    "tags": []
   },
   "source": [
    "# Final Model Interpretation\n",
    "\n",
    "## Hypothesis Testing:\n",
    "\n",
    "### Hypothesis testing states that:\n",
    "\n",
    "H0:B1=B2=...=Bn=0\n",
    "H1: at least one Bi!=0\n",
    "\n",
    "### lr4 model coefficient values\n",
    "- const -0.0415\n",
    "\n",
    "- bmi            0.1779     \n",
    "- smoker_yes     0.3833     \n",
    "- age  0.1950"
   ]
  },
  {
   "cell_type": "markdown",
   "metadata": {
    "papermill": {
     "duration": 0.136919,
     "end_time": "2024-05-07T18:02:31.072805",
     "exception": false,
     "start_time": "2024-05-07T18:02:30.935886",
     "status": "completed"
    },
    "tags": []
   },
   "source": [
    "## Insights\n",
    "- From the lr4 model summary, it is evident that all our coefficients are not equal to zero which means We REJECT the NULL HYPOTHESIS"
   ]
  },
  {
   "cell_type": "markdown",
   "metadata": {
    "papermill": {
     "duration": 0.13372,
     "end_time": "2024-05-07T18:02:31.337536",
     "exception": false,
     "start_time": "2024-05-07T18:02:31.203816",
     "status": "completed"
    },
    "tags": []
   },
   "source": [
    "### F Statistics\n",
    "\n",
    "F-Statistics is used for testing the overall significance of the Model: Higher the F-Statistics, more significant the Model is.\n",
    "\n",
    "- **F-statistic**:                     895.7\n",
    "- **Prob (F-statistic)**:          7.80e-274\n",
    "The F-Statistics value of 2895.7 (which is greater than 1) and the p-value of '~0.0000' states that the overall model is significant"
   ]
  },
  {
   "cell_type": "markdown",
   "metadata": {
    "papermill": {
     "duration": 0.1306,
     "end_time": "2024-05-07T18:02:31.601231",
     "exception": false,
     "start_time": "2024-05-07T18:02:31.470631",
     "status": "completed"
    },
    "tags": []
   },
   "source": [
    "### The equation of best fitted surface based on model lr4:\n",
    "charges = -0.0415  + (**age**  × 0.1950) + (**bmi** × 0.1779) + (**smoker_yes** × 0.3833 ) "
   ]
  },
  {
   "cell_type": "markdown",
   "metadata": {
    "papermill": {
     "duration": 0.131876,
     "end_time": "2024-05-07T18:02:31.867582",
     "exception": false,
     "start_time": "2024-05-07T18:02:31.735706",
     "status": "completed"
    },
    "tags": []
   },
   "source": [
    "### Interpretation of Coefficients:\n",
    "- **age**: A coefficient value of ‘0.1950’ indicated that a unit increase in age variable, increases the charge numbers by 0.1950 units.\n",
    "- **bmi**: A coefficient value of ‘0.1779’ indicated that a unit increase in bmi variable, increases the charge numbers by 0.1779 units.\n",
    "- **smoker_yes**: A coefficient value of ‘0.3833’ indicated that a unit increase in smoker_yes variable, increases the charge numbers by 0.3833 units.\n",
    "\n"
   ]
  },
  {
   "cell_type": "markdown",
   "metadata": {
    "papermill": {
     "duration": 0.134348,
     "end_time": "2024-05-07T18:02:32.132370",
     "exception": false,
     "start_time": "2024-05-07T18:02:31.998022",
     "status": "completed"
    },
    "tags": []
   },
   "source": [
    "# ASSUMPTIONS"
   ]
  },
  {
   "cell_type": "markdown",
   "metadata": {
    "papermill": {
     "duration": 0.135589,
     "end_time": "2024-05-07T18:02:32.400399",
     "exception": false,
     "start_time": "2024-05-07T18:02:32.264810",
     "status": "completed"
    },
    "tags": []
   },
   "source": [
    "## Error terms are normally distributed with mean zero (not X, Y)\n",
    "- Residual Analysis Of Training Data"
   ]
  },
  {
   "cell_type": "code",
   "execution_count": 64,
   "metadata": {
    "execution": {
     "iopub.execute_input": "2024-05-07T18:02:32.669610Z",
     "iopub.status.busy": "2024-05-07T18:02:32.666074Z",
     "iopub.status.idle": "2024-05-07T18:02:32.671901Z",
     "shell.execute_reply": "2024-05-07T18:02:32.672512Z",
     "shell.execute_reply.started": "2024-05-07T16:55:50.570516Z"
    },
    "papermill": {
     "duration": 0.14046,
     "end_time": "2024-05-07T18:02:32.672677",
     "exception": false,
     "start_time": "2024-05-07T18:02:32.532217",
     "status": "completed"
    },
    "tags": []
   },
   "outputs": [],
   "source": [
    "y_train_pred = lr4.predict(X_train_lm4)"
   ]
  },
  {
   "cell_type": "code",
   "execution_count": 65,
   "metadata": {
    "execution": {
     "iopub.execute_input": "2024-05-07T18:02:32.965772Z",
     "iopub.status.busy": "2024-05-07T18:02:32.964956Z",
     "iopub.status.idle": "2024-05-07T18:02:33.217677Z",
     "shell.execute_reply": "2024-05-07T18:02:33.218377Z",
     "shell.execute_reply.started": "2024-05-07T16:55:50.580322Z"
    },
    "papermill": {
     "duration": 0.401614,
     "end_time": "2024-05-07T18:02:33.218571",
     "exception": false,
     "start_time": "2024-05-07T18:02:32.816957",
     "status": "completed"
    },
    "tags": []
   },
   "outputs": [
    {
     "data": {
      "text/plain": [
       "Text(0.5, 0, 'Errors')"
      ]
     },
     "execution_count": 65,
     "metadata": {},
     "output_type": "execute_result"
    },
    {
     "data": {
      "image/png": "[encoded data removed]",
      "text/plain": [
       "<Figure size 432x288 with 1 Axes>"
      ]
     },
     "metadata": {
      "needs_background": "light"
     },
     "output_type": "display_data"
    }
   ],
   "source": [
    "res = y_train-y_train_pred\n",
    "# Plot the histogram of the error terms\n",
    "fig = plt.figure()\n",
    "sns.distplot((res), bins = 20)\n",
    "fig.suptitle('Error Terms', fontsize = 20)                  # Plot heading \n",
    "plt.xlabel('Errors', fontsize = 18)  "
   ]
  },
  {
   "cell_type": "markdown",
   "metadata": {
    "papermill": {
     "duration": 0.131555,
     "end_time": "2024-05-07T18:02:33.488149",
     "exception": false,
     "start_time": "2024-05-07T18:02:33.356594",
     "status": "completed"
    },
    "tags": []
   },
   "source": [
    "### Insights\n",
    "- From the above histogram, we could see that the Residuals are normally distributed. Hence our assumption for Linear Regression is valid."
   ]
  },
  {
   "cell_type": "markdown",
   "metadata": {
    "papermill": {
     "duration": 0.133211,
     "end_time": "2024-05-07T18:02:33.752948",
     "exception": false,
     "start_time": "2024-05-07T18:02:33.619737",
     "status": "completed"
    },
    "tags": []
   },
   "source": [
    "## There is a linear relationship between X and Y"
   ]
  },
  {
   "cell_type": "code",
   "execution_count": 66,
   "metadata": {
    "execution": {
     "iopub.execute_input": "2024-05-07T18:02:34.041672Z",
     "iopub.status.busy": "2024-05-07T18:02:34.035352Z",
     "iopub.status.idle": "2024-05-07T18:02:36.767247Z",
     "shell.execute_reply": "2024-05-07T18:02:36.767893Z",
     "shell.execute_reply.started": "2024-05-07T16:55:50.826895Z"
    },
    "papermill": {
     "duration": 2.880409,
     "end_time": "2024-05-07T18:02:36.768067",
     "exception": false,
     "start_time": "2024-05-07T18:02:33.887658",
     "status": "completed"
    },
    "tags": []
   },
   "outputs": [
    {
     "data": {
      "image/png": "[encoded data removed]",
      "text/plain": [
       "<Figure size 540x540 with 12 Axes>"
      ]
     },
     "metadata": {
      "needs_background": "light"
     },
     "output_type": "display_data"
    }
   ],
   "source": [
    "insurance_new=insurance_new[[ 'bmi', 'age', 'charges']]\n",
    "\n",
    "sns.pairplot(insurance_new, diag_kind='kde')\n",
    "plt.show()"
   ]
  },
  {
   "cell_type": "markdown",
   "metadata": {
    "papermill": {
     "duration": 0.144314,
     "end_time": "2024-05-07T18:02:37.052696",
     "exception": false,
     "start_time": "2024-05-07T18:02:36.908382",
     "status": "completed"
    },
    "tags": []
   },
   "source": [
    "### Insight\n",
    "- Using the pair plot, we could see there is a linear relation between bmi and age variable with the predictor ‘charges’."
   ]
  },
  {
   "cell_type": "markdown",
   "metadata": {
    "papermill": {
     "duration": 0.136344,
     "end_time": "2024-05-07T18:02:37.328942",
     "exception": false,
     "start_time": "2024-05-07T18:02:37.192598",
     "status": "completed"
    },
    "tags": []
   },
   "source": [
    "## There is No Multicollinearity between the predictor variables"
   ]
  },
  {
   "cell_type": "code",
   "execution_count": 67,
   "metadata": {
    "execution": {
     "iopub.execute_input": "2024-05-07T18:02:37.610937Z",
     "iopub.status.busy": "2024-05-07T18:02:37.610149Z",
     "iopub.status.idle": "2024-05-07T18:02:37.629535Z",
     "shell.execute_reply": "2024-05-07T18:02:37.630331Z",
     "shell.execute_reply.started": "2024-05-07T16:55:53.604269Z"
    },
    "papermill": {
     "duration": 0.165432,
     "end_time": "2024-05-07T18:02:37.630527",
     "exception": false,
     "start_time": "2024-05-07T18:02:37.465095",
     "status": "completed"
    },
    "tags": []
   },
   "outputs": [
    {
     "data": {
      "text/html": [
       "<div>\n",
       "<style scoped>\n",
       "    .dataframe tbody tr th:only-of-type {\n",
       "        vertical-align: middle;\n",
       "    }\n",
       "\n",
       "    .dataframe tbody tr th {\n",
       "        vertical-align: top;\n",
       "    }\n",
       "\n",
       "    .dataframe thead th {\n",
       "        text-align: right;\n",
       "    }\n",
       "</style>\n",
       "<table border=\"1\" class=\"dataframe\">\n",
       "  <thead>\n",
       "    <tr style=\"text-align: right;\">\n",
       "      <th></th>\n",
       "      <th>Features</th>\n",
       "      <th>VIF</th>\n",
       "    </tr>\n",
       "  </thead>\n",
       "  <tbody>\n",
       "    <tr>\n",
       "      <th>1</th>\n",
       "      <td>bmi</td>\n",
       "      <td>2.83</td>\n",
       "    </tr>\n",
       "    <tr>\n",
       "      <th>0</th>\n",
       "      <td>age</td>\n",
       "      <td>2.70</td>\n",
       "    </tr>\n",
       "    <tr>\n",
       "      <th>2</th>\n",
       "      <td>smoker_yes</td>\n",
       "      <td>1.21</td>\n",
       "    </tr>\n",
       "  </tbody>\n",
       "</table>\n",
       "</div>"
      ],
      "text/plain": [
       "     Features   VIF\n",
       "1         bmi  2.83\n",
       "0         age  2.70\n",
       "2  smoker_yes  1.21"
      ]
     },
     "execution_count": 67,
     "metadata": {},
     "output_type": "execute_result"
    }
   ],
   "source": [
    "# Check for the VIF values of the feature variables. \n",
    "from statsmodels.stats.outliers_influence import variance_inflation_factor\n",
    "\n",
    "# Create a dataframe that will contain the names of all the feature variables and their respective VIFs\n",
    "vif = pd.DataFrame()\n",
    "vif['Features'] = X_train_new.columns\n",
    "vif['VIF'] = [variance_inflation_factor(X_train_new.values, i) for i in range(X_train_new.shape[1])]\n",
    "vif['VIF'] = round(vif['VIF'], 2)\n",
    "vif = vif.sort_values(by = \"VIF\", ascending = False)\n",
    "vif"
   ]
  },
  {
   "cell_type": "markdown",
   "metadata": {
    "papermill": {
     "duration": 0.14953,
     "end_time": "2024-05-07T18:02:37.933332",
     "exception": false,
     "start_time": "2024-05-07T18:02:37.783802",
     "status": "completed"
    },
    "tags": []
   },
   "source": [
    "### Insight\n",
    "- From the VIF calculation we could find that there is no multicollinearity existing between the predictor variables, as all the values are within permissible range of below "
   ]
  },
  {
   "cell_type": "markdown",
   "metadata": {
    "papermill": {
     "duration": 0.141821,
     "end_time": "2024-05-07T18:02:38.220878",
     "exception": false,
     "start_time": "2024-05-07T18:02:38.079057",
     "status": "completed"
    },
    "tags": []
   },
   "source": [
    "# MAKING PREDICTION USING FINAL MODEL"
   ]
  },
  {
   "cell_type": "markdown",
   "metadata": {
    "papermill": {
     "duration": 0.137463,
     "end_time": "2024-05-07T18:02:38.498535",
     "exception": false,
     "start_time": "2024-05-07T18:02:38.361072",
     "status": "completed"
    },
    "tags": []
   },
   "source": [
    "Now that we have fitted the model and checked the assumptions, it's time to go ahead and make predictions using the final model (lr4)\n",
    "\n",
    "### Applying the scaling on the test sets"
   ]
  },
  {
   "cell_type": "code",
   "execution_count": 68,
   "metadata": {
    "execution": {
     "iopub.execute_input": "2024-05-07T18:02:38.787541Z",
     "iopub.status.busy": "2024-05-07T18:02:38.786348Z",
     "iopub.status.idle": "2024-05-07T18:02:38.798731Z",
     "shell.execute_reply": "2024-05-07T18:02:38.797938Z",
     "shell.execute_reply.started": "2024-05-07T16:55:53.638375Z"
    },
    "papermill": {
     "duration": 0.162587,
     "end_time": "2024-05-07T18:02:38.798885",
     "exception": false,
     "start_time": "2024-05-07T18:02:38.636298",
     "status": "completed"
    },
    "tags": []
   },
   "outputs": [],
   "source": [
    "# Apply scaler() to all numeric variables in test dataset. Note: we will only use scaler.transform, \n",
    "# as we want to use the metrics that the model learned from the training data to be applied on the test data. \n",
    "# In other words, we want to prevent the information leak from train to test dataset.\n",
    "\n",
    "num_vars = ['age', 'bmi', 'charges']\n",
    "\n",
    "df_test[num_vars] = scaler.transform(df_test[num_vars])"
   ]
  },
  {
   "cell_type": "code",
   "execution_count": 69,
   "metadata": {
    "execution": {
     "iopub.execute_input": "2024-05-07T18:02:39.111631Z",
     "iopub.status.busy": "2024-05-07T18:02:39.110602Z",
     "iopub.status.idle": "2024-05-07T18:02:39.117329Z",
     "shell.execute_reply": "2024-05-07T18:02:39.116518Z",
     "shell.execute_reply.started": "2024-05-07T16:55:53.658027Z"
    },
    "papermill": {
     "duration": 0.181748,
     "end_time": "2024-05-07T18:02:39.117486",
     "exception": false,
     "start_time": "2024-05-07T18:02:38.935738",
     "status": "completed"
    },
    "tags": []
   },
   "outputs": [
    {
     "data": {
      "text/html": [
       "<div>\n",
       "<style scoped>\n",
       "    .dataframe tbody tr th:only-of-type {\n",
       "        vertical-align: middle;\n",
       "    }\n",
       "\n",
       "    .dataframe tbody tr th {\n",
       "        vertical-align: top;\n",
       "    }\n",
       "\n",
       "    .dataframe thead th {\n",
       "        text-align: right;\n",
       "    }\n",
       "</style>\n",
       "<table border=\"1\" class=\"dataframe\">\n",
       "  <thead>\n",
       "    <tr style=\"text-align: right;\">\n",
       "      <th></th>\n",
       "      <th>age</th>\n",
       "      <th>bmi</th>\n",
       "      <th>charges</th>\n",
       "      <th>sex_male</th>\n",
       "      <th>children_1</th>\n",
       "      <th>children_2</th>\n",
       "      <th>children_3</th>\n",
       "      <th>children_4</th>\n",
       "      <th>children_5</th>\n",
       "      <th>smoker_yes</th>\n",
       "      <th>region_northwest</th>\n",
       "      <th>region_southeast</th>\n",
       "      <th>region_southwest</th>\n",
       "    </tr>\n",
       "  </thead>\n",
       "  <tbody>\n",
       "    <tr>\n",
       "      <th>12</th>\n",
       "      <td>0.108696</td>\n",
       "      <td>0.496099</td>\n",
       "      <td>0.011253</td>\n",
       "      <td>1</td>\n",
       "      <td>0</td>\n",
       "      <td>0</td>\n",
       "      <td>0</td>\n",
       "      <td>0</td>\n",
       "      <td>0</td>\n",
       "      <td>0</td>\n",
       "      <td>0</td>\n",
       "      <td>0</td>\n",
       "      <td>1</td>\n",
       "    </tr>\n",
       "    <tr>\n",
       "      <th>306</th>\n",
       "      <td>0.217391</td>\n",
       "      <td>0.310465</td>\n",
       "      <td>0.304170</td>\n",
       "      <td>0</td>\n",
       "      <td>0</td>\n",
       "      <td>1</td>\n",
       "      <td>0</td>\n",
       "      <td>0</td>\n",
       "      <td>0</td>\n",
       "      <td>0</td>\n",
       "      <td>0</td>\n",
       "      <td>0</td>\n",
       "      <td>1</td>\n",
       "    </tr>\n",
       "    <tr>\n",
       "      <th>318</th>\n",
       "      <td>0.565217</td>\n",
       "      <td>0.314366</td>\n",
       "      <td>0.100550</td>\n",
       "      <td>0</td>\n",
       "      <td>0</td>\n",
       "      <td>0</td>\n",
       "      <td>0</td>\n",
       "      <td>0</td>\n",
       "      <td>0</td>\n",
       "      <td>0</td>\n",
       "      <td>1</td>\n",
       "      <td>0</td>\n",
       "      <td>0</td>\n",
       "    </tr>\n",
       "    <tr>\n",
       "      <th>815</th>\n",
       "      <td>0.043478</td>\n",
       "      <td>0.417003</td>\n",
       "      <td>0.012068</td>\n",
       "      <td>0</td>\n",
       "      <td>0</td>\n",
       "      <td>0</td>\n",
       "      <td>0</td>\n",
       "      <td>0</td>\n",
       "      <td>0</td>\n",
       "      <td>0</td>\n",
       "      <td>0</td>\n",
       "      <td>1</td>\n",
       "      <td>0</td>\n",
       "    </tr>\n",
       "    <tr>\n",
       "      <th>157</th>\n",
       "      <td>0.000000</td>\n",
       "      <td>0.247915</td>\n",
       "      <td>0.229795</td>\n",
       "      <td>1</td>\n",
       "      <td>0</td>\n",
       "      <td>0</td>\n",
       "      <td>0</td>\n",
       "      <td>0</td>\n",
       "      <td>0</td>\n",
       "      <td>1</td>\n",
       "      <td>0</td>\n",
       "      <td>0</td>\n",
       "      <td>0</td>\n",
       "    </tr>\n",
       "  </tbody>\n",
       "</table>\n",
       "</div>"
      ],
      "text/plain": [
       "          age       bmi   charges  sex_male  children_1  children_2  \\\n",
       "12   0.108696  0.496099  0.011253         1           0           0   \n",
       "306  0.217391  0.310465  0.304170         0           0           1   \n",
       "318  0.565217  0.314366  0.100550         0           0           0   \n",
       "815  0.043478  0.417003  0.012068         0           0           0   \n",
       "157  0.000000  0.247915  0.229795         1           0           0   \n",
       "\n",
       "     children_3  children_4  children_5  smoker_yes  region_northwest  \\\n",
       "12            0           0           0           0                 0   \n",
       "306           0           0           0           0                 0   \n",
       "318           0           0           0           0                 1   \n",
       "815           0           0           0           0                 0   \n",
       "157           0           0           0           1                 0   \n",
       "\n",
       "     region_southeast  region_southwest  \n",
       "12                  0                 1  \n",
       "306                 0                 1  \n",
       "318                 0                 0  \n",
       "815                 1                 0  \n",
       "157                 0                 0  "
      ]
     },
     "execution_count": 69,
     "metadata": {},
     "output_type": "execute_result"
    }
   ],
   "source": [
    "df_test.head()"
   ]
  },
  {
   "cell_type": "code",
   "execution_count": 70,
   "metadata": {
    "execution": {
     "iopub.execute_input": "2024-05-07T18:02:39.450458Z",
     "iopub.status.busy": "2024-05-07T18:02:39.448904Z",
     "iopub.status.idle": "2024-05-07T18:02:39.514471Z",
     "shell.execute_reply": "2024-05-07T18:02:39.513571Z",
     "shell.execute_reply.started": "2024-05-07T16:55:53.682836Z"
    },
    "papermill": {
     "duration": 0.229881,
     "end_time": "2024-05-07T18:02:39.514642",
     "exception": false,
     "start_time": "2024-05-07T18:02:39.284761",
     "status": "completed"
    },
    "tags": []
   },
   "outputs": [
    {
     "data": {
      "text/html": [
       "<div>\n",
       "<style scoped>\n",
       "    .dataframe tbody tr th:only-of-type {\n",
       "        vertical-align: middle;\n",
       "    }\n",
       "\n",
       "    .dataframe tbody tr th {\n",
       "        vertical-align: top;\n",
       "    }\n",
       "\n",
       "    .dataframe thead th {\n",
       "        text-align: right;\n",
       "    }\n",
       "</style>\n",
       "<table border=\"1\" class=\"dataframe\">\n",
       "  <thead>\n",
       "    <tr style=\"text-align: right;\">\n",
       "      <th></th>\n",
       "      <th>age</th>\n",
       "      <th>bmi</th>\n",
       "      <th>charges</th>\n",
       "      <th>sex_male</th>\n",
       "      <th>children_1</th>\n",
       "      <th>children_2</th>\n",
       "      <th>children_3</th>\n",
       "      <th>children_4</th>\n",
       "      <th>children_5</th>\n",
       "      <th>smoker_yes</th>\n",
       "      <th>region_northwest</th>\n",
       "      <th>region_southeast</th>\n",
       "      <th>region_southwest</th>\n",
       "    </tr>\n",
       "  </thead>\n",
       "  <tbody>\n",
       "    <tr>\n",
       "      <th>count</th>\n",
       "      <td>402.000000</td>\n",
       "      <td>402.000000</td>\n",
       "      <td>402.000000</td>\n",
       "      <td>402.000000</td>\n",
       "      <td>402.000000</td>\n",
       "      <td>402.000000</td>\n",
       "      <td>402.000000</td>\n",
       "      <td>402.000000</td>\n",
       "      <td>402.000000</td>\n",
       "      <td>402.000000</td>\n",
       "      <td>402.000000</td>\n",
       "      <td>402.000000</td>\n",
       "      <td>402.000000</td>\n",
       "    </tr>\n",
       "    <tr>\n",
       "      <th>mean</th>\n",
       "      <td>0.467662</td>\n",
       "      <td>0.387383</td>\n",
       "      <td>0.197677</td>\n",
       "      <td>0.522388</td>\n",
       "      <td>0.256219</td>\n",
       "      <td>0.166667</td>\n",
       "      <td>0.116915</td>\n",
       "      <td>0.012438</td>\n",
       "      <td>0.017413</td>\n",
       "      <td>0.228856</td>\n",
       "      <td>0.238806</td>\n",
       "      <td>0.248756</td>\n",
       "      <td>0.243781</td>\n",
       "    </tr>\n",
       "    <tr>\n",
       "      <th>std</th>\n",
       "      <td>0.304236</td>\n",
       "      <td>0.156621</td>\n",
       "      <td>0.192579</td>\n",
       "      <td>0.500121</td>\n",
       "      <td>0.437088</td>\n",
       "      <td>0.373142</td>\n",
       "      <td>0.321720</td>\n",
       "      <td>0.110967</td>\n",
       "      <td>0.130967</td>\n",
       "      <td>0.420620</td>\n",
       "      <td>0.426885</td>\n",
       "      <td>0.432831</td>\n",
       "      <td>0.429897</td>\n",
       "    </tr>\n",
       "    <tr>\n",
       "      <th>min</th>\n",
       "      <td>0.000000</td>\n",
       "      <td>0.023002</td>\n",
       "      <td>0.000154</td>\n",
       "      <td>0.000000</td>\n",
       "      <td>0.000000</td>\n",
       "      <td>0.000000</td>\n",
       "      <td>0.000000</td>\n",
       "      <td>0.000000</td>\n",
       "      <td>0.000000</td>\n",
       "      <td>0.000000</td>\n",
       "      <td>0.000000</td>\n",
       "      <td>0.000000</td>\n",
       "      <td>0.000000</td>\n",
       "    </tr>\n",
       "    <tr>\n",
       "      <th>25%</th>\n",
       "      <td>0.195652</td>\n",
       "      <td>0.278585</td>\n",
       "      <td>0.060686</td>\n",
       "      <td>0.000000</td>\n",
       "      <td>0.000000</td>\n",
       "      <td>0.000000</td>\n",
       "      <td>0.000000</td>\n",
       "      <td>0.000000</td>\n",
       "      <td>0.000000</td>\n",
       "      <td>0.000000</td>\n",
       "      <td>0.000000</td>\n",
       "      <td>0.000000</td>\n",
       "      <td>0.000000</td>\n",
       "    </tr>\n",
       "    <tr>\n",
       "      <th>50%</th>\n",
       "      <td>0.478261</td>\n",
       "      <td>0.383105</td>\n",
       "      <td>0.138259</td>\n",
       "      <td>1.000000</td>\n",
       "      <td>0.000000</td>\n",
       "      <td>0.000000</td>\n",
       "      <td>0.000000</td>\n",
       "      <td>0.000000</td>\n",
       "      <td>0.000000</td>\n",
       "      <td>0.000000</td>\n",
       "      <td>0.000000</td>\n",
       "      <td>0.000000</td>\n",
       "      <td>0.000000</td>\n",
       "    </tr>\n",
       "    <tr>\n",
       "      <th>75%</th>\n",
       "      <td>0.733696</td>\n",
       "      <td>0.483051</td>\n",
       "      <td>0.254641</td>\n",
       "      <td>1.000000</td>\n",
       "      <td>1.000000</td>\n",
       "      <td>0.000000</td>\n",
       "      <td>0.000000</td>\n",
       "      <td>0.000000</td>\n",
       "      <td>0.000000</td>\n",
       "      <td>0.000000</td>\n",
       "      <td>0.000000</td>\n",
       "      <td>0.000000</td>\n",
       "      <td>0.000000</td>\n",
       "    </tr>\n",
       "    <tr>\n",
       "      <th>max</th>\n",
       "      <td>1.000000</td>\n",
       "      <td>0.890503</td>\n",
       "      <td>0.940158</td>\n",
       "      <td>1.000000</td>\n",
       "      <td>1.000000</td>\n",
       "      <td>1.000000</td>\n",
       "      <td>1.000000</td>\n",
       "      <td>1.000000</td>\n",
       "      <td>1.000000</td>\n",
       "      <td>1.000000</td>\n",
       "      <td>1.000000</td>\n",
       "      <td>1.000000</td>\n",
       "      <td>1.000000</td>\n",
       "    </tr>\n",
       "  </tbody>\n",
       "</table>\n",
       "</div>"
      ],
      "text/plain": [
       "              age         bmi     charges    sex_male  children_1  children_2  \\\n",
       "count  402.000000  402.000000  402.000000  402.000000  402.000000  402.000000   \n",
       "mean     0.467662    0.387383    0.197677    0.522388    0.256219    0.166667   \n",
       "std      0.304236    0.156621    0.192579    0.500121    0.437088    0.373142   \n",
       "min      0.000000    0.023002    0.000154    0.000000    0.000000    0.000000   \n",
       "25%      0.195652    0.278585    0.060686    0.000000    0.000000    0.000000   \n",
       "50%      0.478261    0.383105    0.138259    1.000000    0.000000    0.000000   \n",
       "75%      0.733696    0.483051    0.254641    1.000000    1.000000    0.000000   \n",
       "max      1.000000    0.890503    0.940158    1.000000    1.000000    1.000000   \n",
       "\n",
       "       children_3  children_4  children_5  smoker_yes  region_northwest  \\\n",
       "count  402.000000  402.000000  402.000000  402.000000        402.000000   \n",
       "mean     0.116915    0.012438    0.017413    0.228856          0.238806   \n",
       "std      0.321720    0.110967    0.130967    0.420620          0.426885   \n",
       "min      0.000000    0.000000    0.000000    0.000000          0.000000   \n",
       "25%      0.000000    0.000000    0.000000    0.000000          0.000000   \n",
       "50%      0.000000    0.000000    0.000000    0.000000          0.000000   \n",
       "75%      0.000000    0.000000    0.000000    0.000000          0.000000   \n",
       "max      1.000000    1.000000    1.000000    1.000000          1.000000   \n",
       "\n",
       "       region_southeast  region_southwest  \n",
       "count        402.000000        402.000000  \n",
       "mean           0.248756          0.243781  \n",
       "std            0.432831          0.429897  \n",
       "min            0.000000          0.000000  \n",
       "25%            0.000000          0.000000  \n",
       "50%            0.000000          0.000000  \n",
       "75%            0.000000          0.000000  \n",
       "max            1.000000          1.000000  "
      ]
     },
     "execution_count": 70,
     "metadata": {},
     "output_type": "execute_result"
    }
   ],
   "source": [
    "df_test.describe()"
   ]
  },
  {
   "cell_type": "markdown",
   "metadata": {
    "papermill": {
     "duration": 0.149083,
     "end_time": "2024-05-07T18:02:39.807519",
     "exception": false,
     "start_time": "2024-05-07T18:02:39.658436",
     "status": "completed"
    },
    "tags": []
   },
   "source": [
    "### Dividing into X_test and y_test"
   ]
  },
  {
   "cell_type": "code",
   "execution_count": 71,
   "metadata": {
    "execution": {
     "iopub.execute_input": "2024-05-07T18:02:40.124228Z",
     "iopub.status.busy": "2024-05-07T18:02:40.122485Z",
     "iopub.status.idle": "2024-05-07T18:02:40.128380Z",
     "shell.execute_reply": "2024-05-07T18:02:40.129170Z",
     "shell.execute_reply.started": "2024-05-07T16:55:53.759183Z"
    },
    "papermill": {
     "duration": 0.171829,
     "end_time": "2024-05-07T18:02:40.129375",
     "exception": false,
     "start_time": "2024-05-07T18:02:39.957546",
     "status": "completed"
    },
    "tags": []
   },
   "outputs": [
    {
     "name": "stdout",
     "output_type": "stream",
     "text": [
      "<class 'pandas.core.frame.DataFrame'>\n",
      "Int64Index: 402 entries, 12 to 1164\n",
      "Data columns (total 12 columns):\n",
      " #   Column            Non-Null Count  Dtype  \n",
      "---  ------            --------------  -----  \n",
      " 0   age               402 non-null    float64\n",
      " 1   bmi               402 non-null    float64\n",
      " 2   sex_male          402 non-null    uint8  \n",
      " 3   children_1        402 non-null    uint8  \n",
      " 4   children_2        402 non-null    uint8  \n",
      " 5   children_3        402 non-null    uint8  \n",
      " 6   children_4        402 non-null    uint8  \n",
      " 7   children_5        402 non-null    uint8  \n",
      " 8   smoker_yes        402 non-null    uint8  \n",
      " 9   region_northwest  402 non-null    uint8  \n",
      " 10  region_southeast  402 non-null    uint8  \n",
      " 11  region_southwest  402 non-null    uint8  \n",
      "dtypes: float64(2), uint8(10)\n",
      "memory usage: 13.3 KB\n"
     ]
    }
   ],
   "source": [
    "y_test = df_test.pop('charges')\n",
    "X_test = df_test\n",
    "X_test.info()"
   ]
  },
  {
   "cell_type": "code",
   "execution_count": 72,
   "metadata": {
    "execution": {
     "iopub.execute_input": "2024-05-07T18:02:40.433137Z",
     "iopub.status.busy": "2024-05-07T18:02:40.427557Z",
     "iopub.status.idle": "2024-05-07T18:02:40.439670Z",
     "shell.execute_reply": "2024-05-07T18:02:40.439024Z",
     "shell.execute_reply.started": "2024-05-07T16:55:53.777802Z"
    },
    "papermill": {
     "duration": 0.167797,
     "end_time": "2024-05-07T18:02:40.439817",
     "exception": false,
     "start_time": "2024-05-07T18:02:40.272020",
     "status": "completed"
    },
    "tags": []
   },
   "outputs": [
    {
     "name": "stdout",
     "output_type": "stream",
     "text": [
      "<class 'pandas.core.frame.DataFrame'>\n",
      "Int64Index: 402 entries, 12 to 1164\n",
      "Data columns (total 4 columns):\n",
      " #   Column      Non-Null Count  Dtype  \n",
      "---  ------      --------------  -----  \n",
      " 0   const       402 non-null    float64\n",
      " 1   age         402 non-null    float64\n",
      " 2   bmi         402 non-null    float64\n",
      " 3   smoker_yes  402 non-null    uint8  \n",
      "dtypes: float64(3), uint8(1)\n",
      "memory usage: 13.0 KB\n"
     ]
    }
   ],
   "source": [
    "#Selecting the variables that were part of final model.\n",
    "col1=X_train_new.columns\n",
    "X_test=X_test[col1]\n",
    "# Adding constant variable to test dataframe\n",
    "X_test_lm4 = sm.add_constant(X_test)\n",
    "X_test_lm4.info()"
   ]
  },
  {
   "cell_type": "code",
   "execution_count": 73,
   "metadata": {
    "execution": {
     "iopub.execute_input": "2024-05-07T18:02:40.731071Z",
     "iopub.status.busy": "2024-05-07T18:02:40.730265Z",
     "iopub.status.idle": "2024-05-07T18:02:40.735116Z",
     "shell.execute_reply": "2024-05-07T18:02:40.734450Z",
     "shell.execute_reply.started": "2024-05-07T16:55:53.800643Z"
    },
    "papermill": {
     "duration": 0.153746,
     "end_time": "2024-05-07T18:02:40.735273",
     "exception": false,
     "start_time": "2024-05-07T18:02:40.581527",
     "status": "completed"
    },
    "tags": []
   },
   "outputs": [],
   "source": [
    "# Making predictions using the final model (lr4)\n",
    "\n",
    "y_pred = lr4.predict(X_test_lm4)\n"
   ]
  },
  {
   "cell_type": "markdown",
   "metadata": {
    "papermill": {
     "duration": 0.145206,
     "end_time": "2024-05-07T18:02:41.023305",
     "exception": false,
     "start_time": "2024-05-07T18:02:40.878099",
     "status": "completed"
    },
    "tags": []
   },
   "source": [
    "# MODEL EVALUATION"
   ]
  },
  {
   "cell_type": "code",
   "execution_count": 74,
   "metadata": {
    "execution": {
     "iopub.execute_input": "2024-05-07T18:02:41.316653Z",
     "iopub.status.busy": "2024-05-07T18:02:41.315797Z",
     "iopub.status.idle": "2024-05-07T18:02:41.519695Z",
     "shell.execute_reply": "2024-05-07T18:02:41.519028Z",
     "shell.execute_reply.started": "2024-05-07T16:55:53.811938Z"
    },
    "papermill": {
     "duration": 0.354361,
     "end_time": "2024-05-07T18:02:41.519831",
     "exception": false,
     "start_time": "2024-05-07T18:02:41.165470",
     "status": "completed"
    },
    "tags": []
   },
   "outputs": [
    {
     "data": {
      "image/png": "[encoded data removed]",
      "text/plain": [
       "<Figure size 432x288 with 1 Axes>"
      ]
     },
     "metadata": {
      "needs_background": "light"
     },
     "output_type": "display_data"
    }
   ],
   "source": [
    "# Plotting y_test and y_pred to understand the spread\n",
    "\n",
    "fig = plt.figure()\n",
    "plt.scatter(y_test, y_pred, alpha=.5)\n",
    "fig.suptitle('y_test vs y_pred', fontsize = 20)              # Plot heading \n",
    "plt.xlabel('y_test', fontsize = 18)                          # X-label\n",
    "plt.ylabel('y_pred', fontsize = 16) \n",
    "plt.show()"
   ]
  },
  {
   "cell_type": "markdown",
   "metadata": {
    "papermill": {
     "duration": 0.142915,
     "end_time": "2024-05-07T18:02:41.804583",
     "exception": false,
     "start_time": "2024-05-07T18:02:41.661668",
     "status": "completed"
    },
    "tags": []
   },
   "source": [
    "## R^2 Value for TEST"
   ]
  },
  {
   "cell_type": "code",
   "execution_count": 75,
   "metadata": {
    "execution": {
     "iopub.execute_input": "2024-05-07T18:02:42.102222Z",
     "iopub.status.busy": "2024-05-07T18:02:42.101003Z",
     "iopub.status.idle": "2024-05-07T18:02:42.106334Z",
     "shell.execute_reply": "2024-05-07T18:02:42.105649Z",
     "shell.execute_reply.started": "2024-05-07T16:55:54.007385Z"
    },
    "papermill": {
     "duration": 0.159448,
     "end_time": "2024-05-07T18:02:42.106467",
     "exception": false,
     "start_time": "2024-05-07T18:02:41.947019",
     "status": "completed"
    },
    "tags": []
   },
   "outputs": [
    {
     "data": {
      "text/plain": [
       "0.7777782410843158"
      ]
     },
     "execution_count": 75,
     "metadata": {},
     "output_type": "execute_result"
    }
   ],
   "source": [
    "from sklearn.metrics import r2_score\n",
    "r2_score(y_test, y_pred)"
   ]
  },
  {
   "cell_type": "markdown",
   "metadata": {
    "papermill": {
     "duration": 0.145703,
     "end_time": "2024-05-07T18:02:42.395296",
     "exception": false,
     "start_time": "2024-05-07T18:02:42.249593",
     "status": "completed"
    },
    "tags": []
   },
   "source": [
    "## Adjusted R^2 Value for TEST"
   ]
  },
  {
   "cell_type": "code",
   "execution_count": 76,
   "metadata": {
    "execution": {
     "iopub.execute_input": "2024-05-07T18:02:42.686777Z",
     "iopub.status.busy": "2024-05-07T18:02:42.685633Z",
     "iopub.status.idle": "2024-05-07T18:02:42.688335Z",
     "shell.execute_reply": "2024-05-07T18:02:42.688990Z",
     "shell.execute_reply.started": "2024-05-07T16:55:54.020223Z"
    },
    "papermill": {
     "duration": 0.150952,
     "end_time": "2024-05-07T18:02:42.689152",
     "exception": false,
     "start_time": "2024-05-07T18:02:42.538200",
     "status": "completed"
    },
    "tags": []
   },
   "outputs": [],
   "source": [
    "# We already have the value of R^2 (calculated in above step)\n",
    "\n",
    "r2=0.75783003115855"
   ]
  },
  {
   "cell_type": "code",
   "execution_count": 77,
   "metadata": {
    "execution": {
     "iopub.execute_input": "2024-05-07T18:02:42.979077Z",
     "iopub.status.busy": "2024-05-07T18:02:42.977949Z",
     "iopub.status.idle": "2024-05-07T18:02:42.984089Z",
     "shell.execute_reply": "2024-05-07T18:02:42.984673Z",
     "shell.execute_reply.started": "2024-05-07T16:55:54.030141Z"
    },
    "papermill": {
     "duration": 0.15177,
     "end_time": "2024-05-07T18:02:42.984833",
     "exception": false,
     "start_time": "2024-05-07T18:02:42.833063",
     "status": "completed"
    },
    "tags": []
   },
   "outputs": [
    {
     "data": {
      "text/plain": [
       "(402, 3)"
      ]
     },
     "execution_count": 77,
     "metadata": {},
     "output_type": "execute_result"
    }
   ],
   "source": [
    "# Get the shape of X_test\n",
    "X_test.shape"
   ]
  },
  {
   "cell_type": "code",
   "execution_count": 78,
   "metadata": {
    "execution": {
     "iopub.execute_input": "2024-05-07T18:02:43.280393Z",
     "iopub.status.busy": "2024-05-07T18:02:43.279229Z",
     "iopub.status.idle": "2024-05-07T18:02:43.287748Z",
     "shell.execute_reply": "2024-05-07T18:02:43.288400Z",
     "shell.execute_reply.started": "2024-05-07T16:55:54.044281Z"
    },
    "papermill": {
     "duration": 0.155464,
     "end_time": "2024-05-07T18:02:43.288570",
     "exception": false,
     "start_time": "2024-05-07T18:02:43.133106",
     "status": "completed"
    },
    "tags": []
   },
   "outputs": [
    {
     "data": {
      "text/plain": [
       "0.7560046293833631"
      ]
     },
     "execution_count": 78,
     "metadata": {},
     "output_type": "execute_result"
    }
   ],
   "source": [
    "# n is number of rows in X\n",
    "\n",
    "n = X_test.shape[0]\n",
    "\n",
    "\n",
    "# Number of features (predictors, p) is the shape along axis 1\n",
    "p = X_test.shape[1]\n",
    "\n",
    "# We find the Adjusted R-squared using the formula\n",
    "\n",
    "adjusted_r2 = 1-(1-r2)*(n-1)/(n-p-1)\n",
    "adjusted_r2"
   ]
  },
  {
   "cell_type": "markdown",
   "metadata": {
    "papermill": {
     "duration": 0.148378,
     "end_time": "2024-05-07T18:02:43.583956",
     "exception": false,
     "start_time": "2024-05-07T18:02:43.435578",
     "status": "completed"
    },
    "tags": []
   },
   "source": [
    "## Final Result Comparison\n",
    "\n",
    "- **Train R^2** :0.743\n",
    "- **Train Adjusted R^2** : 0.742\n",
    "- **Test R^2** :0.757\n",
    "- **Test Adjusted R^2** :0.756\n",
    "\n",
    "This seems to be a really good model that can very well 'Generalize' various datasets."
   ]
  },
  {
   "cell_type": "markdown",
   "metadata": {
    "papermill": {
     "duration": 0.144028,
     "end_time": "2024-05-07T18:02:43.872031",
     "exception": false,
     "start_time": "2024-05-07T18:02:43.728003",
     "status": "completed"
    },
    "tags": []
   },
   "source": [
    "# FINAL REPORT"
   ]
  },
  {
   "cell_type": "markdown",
   "metadata": {
    "papermill": {
     "duration": 0.14475,
     "end_time": "2024-05-07T18:02:44.162442",
     "exception": false,
     "start_time": "2024-05-07T18:02:44.017692",
     "status": "completed"
    },
    "tags": []
   },
   "source": [
    "As per our final Model, the top predictor variables that influences the Charges are:\n",
    "- **age**: A coefficient value of ‘0.1950’ indicated that a unit increase in age variable, increases the charge numbers by 0.1950 units.\n",
    "- **bmi**: A coefficient value of ‘0.1779’ indicated that a unit increase in bmi variable, increases the charge numbers by 0.1779 units.\n",
    "- **smoker_yes**: A coefficient value of ‘0.3833’ indicated that a unit increase in smoker_yes variable, increases the charge numbers by 0.3833 units.\n",
    "\n"
   ]
  }
 ],
 "metadata": {
  "kaggle": {
   "accelerator": "none",
   "dataSources": [
    {
     "datasetId": 13720,
     "sourceId": 18513,
     "sourceType": "datasetVersion"
    }
   ],
   "dockerImageVersionId": 29980,
   "isGpuEnabled": false,
   "isInternetEnabled": true,
   "language": "python",
   "sourceType": "notebook"
  },
  "kernelspec": {
   "display_name": "Python 3",
   "language": "python",
   "name": "python3"
  },
  "language_info": {
   "codemirror_mode": {
    "name": "ipython",
    "version": 3
   },
   "file_extension": ".py",
   "mimetype": "text/x-python",
   "name": "python",
   "nbconvert_exporter": "python",
   "pygments_lexer": "ipython3",
   "version": "3.7.6"
  },
  "papermill": {
   "duration": 51.063461,
   "end_time": "2024-05-07T18:02:44.414457",
   "environment_variables": {},
   "exception": null,
   "input_path": "__notebook__.ipynb",
   "output_path": "__notebook__.ipynb",
   "parameters": {},
   "start_time": "2024-05-07T18:01:53.350996",
   "version": "2.1.0"
  }
 },
 "nbformat": 4,
 "nbformat_minor": 4
}
